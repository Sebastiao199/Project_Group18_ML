{
 "cells": [
  {
   "cell_type": "code",
   "execution_count": 532,
   "id": "a071e030",
   "metadata": {},
   "outputs": [],
   "source": [
    "import numpy as np\n",
    "import pandas as pd\n",
    "import missingno as msno\n",
    "import matplotlib.pyplot as plt\n",
    "import seaborn as sns\n",
    "from sklearn.model_selection import train_test_split\n",
    "import scipy.stats as stats\n",
    "from scipy.stats import pointbiserialr\n",
    "from scipy.stats import chi2_contingency\n",
    "#wrapper methods\n",
    "from sklearn.feature_selection import RFE\n",
    "from sklearn.feature_selection import RFECV\n",
    "\n",
    "\n",
    "from sklearn.model_selection import StratifiedKFold\n",
    "from sklearn.metrics import make_scorer\n",
    "from sklearn.metrics import f1_score\n",
    "\n",
    "\n",
    "from sklearn.pipeline import Pipeline\n",
    "from sklearn.model_selection import GridSearchCV\n",
    "from sklearn.model_selection import RandomizedSearchCV\n",
    "\n",
    "#scaler methods\n",
    "from sklearn.preprocessing import RobustScaler\n",
    "from sklearn.preprocessing import StandardScaler\n",
    "from sklearn.preprocessing import MinMaxScaler\n",
    "\n",
    "# embedded methods\n",
    "from sklearn.linear_model import LassoCV\n",
    "\n",
    "from sklearn.preprocessing import LabelEncoder\n",
    "from sklearn.preprocessing import OrdinalEncoder\n",
    "\n",
    "import warnings\n",
    "warnings.filterwarnings('ignore')\n",
    "\n",
    "from sklearn.linear_model import LogisticRegression\n",
    "from sklearn.svm import SVC\n",
    "from sklearn.neighbors import KNeighborsClassifier\n",
    "from sklearn.tree import DecisionTreeClassifier\n",
    "from sklearn.neural_network import MLPClassifier\n",
    "from sklearn.naive_bayes import GaussianNB\n",
    "from sklearn.ensemble import RandomForestClassifier\n",
    "from sklearn.ensemble import RandomForestRegressor\n",
    "from sklearn.ensemble import GradientBoostingClassifier"
   ]
  },
  {
   "cell_type": "markdown",
   "id": "97e9ed20",
   "metadata": {},
   "source": [
    "# Importing the datasets"
   ]
  },
  {
   "cell_type": "code",
   "execution_count": 533,
   "id": "753eb36c",
   "metadata": {
    "scrolled": true
   },
   "outputs": [
    {
     "data": {
      "text/html": [
       "<div>\n",
       "<style scoped>\n",
       "    .dataframe tbody tr th:only-of-type {\n",
       "        vertical-align: middle;\n",
       "    }\n",
       "\n",
       "    .dataframe tbody tr th {\n",
       "        vertical-align: top;\n",
       "    }\n",
       "\n",
       "    .dataframe thead th {\n",
       "        text-align: right;\n",
       "    }\n",
       "</style>\n",
       "<table border=\"1\" class=\"dataframe\">\n",
       "  <thead>\n",
       "    <tr style=\"text-align: right;\">\n",
       "      <th></th>\n",
       "      <th>encounter_id</th>\n",
       "      <th>readmitted_binary</th>\n",
       "    </tr>\n",
       "  </thead>\n",
       "  <tbody>\n",
       "    <tr>\n",
       "      <th>0</th>\n",
       "      <td>499502</td>\n",
       "      <td>No</td>\n",
       "    </tr>\n",
       "    <tr>\n",
       "      <th>1</th>\n",
       "      <td>447319</td>\n",
       "      <td>No</td>\n",
       "    </tr>\n",
       "    <tr>\n",
       "      <th>2</th>\n",
       "      <td>309126</td>\n",
       "      <td>Yes</td>\n",
       "    </tr>\n",
       "    <tr>\n",
       "      <th>3</th>\n",
       "      <td>181183</td>\n",
       "      <td>Yes</td>\n",
       "    </tr>\n",
       "    <tr>\n",
       "      <th>4</th>\n",
       "      <td>359339</td>\n",
       "      <td>No</td>\n",
       "    </tr>\n",
       "  </tbody>\n",
       "</table>\n",
       "</div>"
      ],
      "text/plain": [
       "   encounter_id readmitted_binary\n",
       "0        499502                No\n",
       "1        447319                No\n",
       "2        309126               Yes\n",
       "3        181183               Yes\n",
       "4        359339                No"
      ]
     },
     "execution_count": 533,
     "metadata": {},
     "output_type": "execute_result"
    }
   ],
   "source": [
    "sample_submission = pd.read_csv('https://raw.githubusercontent.com/Sebastiao199/Project_Group18_ML/main/sample_submission.csv')\n",
    "sample_submission.head()"
   ]
  },
  {
   "cell_type": "code",
   "execution_count": 534,
   "id": "ac18ad30",
   "metadata": {
    "scrolled": true
   },
   "outputs": [
    {
     "data": {
      "text/html": [
       "<div>\n",
       "<style scoped>\n",
       "    .dataframe tbody tr th:only-of-type {\n",
       "        vertical-align: middle;\n",
       "    }\n",
       "\n",
       "    .dataframe tbody tr th {\n",
       "        vertical-align: top;\n",
       "    }\n",
       "\n",
       "    .dataframe thead th {\n",
       "        text-align: right;\n",
       "    }\n",
       "</style>\n",
       "<table border=\"1\" class=\"dataframe\">\n",
       "  <thead>\n",
       "    <tr style=\"text-align: right;\">\n",
       "      <th></th>\n",
       "      <th>country</th>\n",
       "      <th>patient_id</th>\n",
       "      <th>race</th>\n",
       "      <th>gender</th>\n",
       "      <th>age</th>\n",
       "      <th>weight</th>\n",
       "      <th>payer_code</th>\n",
       "      <th>outpatient_visits_in_previous_year</th>\n",
       "      <th>emergency_visits_in_previous_year</th>\n",
       "      <th>inpatient_visits_in_previous_year</th>\n",
       "      <th>...</th>\n",
       "      <th>number_of_medications</th>\n",
       "      <th>primary_diagnosis</th>\n",
       "      <th>secondary_diagnosis</th>\n",
       "      <th>additional_diagnosis</th>\n",
       "      <th>number_diagnoses</th>\n",
       "      <th>glucose_test_result</th>\n",
       "      <th>a1c_test_result</th>\n",
       "      <th>change_in_meds_during_hospitalization</th>\n",
       "      <th>prescribed_diabetes_meds</th>\n",
       "      <th>medication</th>\n",
       "    </tr>\n",
       "    <tr>\n",
       "      <th>encounter_id</th>\n",
       "      <th></th>\n",
       "      <th></th>\n",
       "      <th></th>\n",
       "      <th></th>\n",
       "      <th></th>\n",
       "      <th></th>\n",
       "      <th></th>\n",
       "      <th></th>\n",
       "      <th></th>\n",
       "      <th></th>\n",
       "      <th></th>\n",
       "      <th></th>\n",
       "      <th></th>\n",
       "      <th></th>\n",
       "      <th></th>\n",
       "      <th></th>\n",
       "      <th></th>\n",
       "      <th></th>\n",
       "      <th></th>\n",
       "      <th></th>\n",
       "      <th></th>\n",
       "    </tr>\n",
       "  </thead>\n",
       "  <tbody>\n",
       "    <tr>\n",
       "      <th>499502</th>\n",
       "      <td>USA</td>\n",
       "      <td>103232799</td>\n",
       "      <td>Caucasian</td>\n",
       "      <td>Male</td>\n",
       "      <td>[80-90)</td>\n",
       "      <td>NaN</td>\n",
       "      <td>HM</td>\n",
       "      <td>0</td>\n",
       "      <td>0</td>\n",
       "      <td>0</td>\n",
       "      <td>...</td>\n",
       "      <td>14</td>\n",
       "      <td>491</td>\n",
       "      <td>414</td>\n",
       "      <td>250</td>\n",
       "      <td>6</td>\n",
       "      <td>NaN</td>\n",
       "      <td>NaN</td>\n",
       "      <td>No</td>\n",
       "      <td>Yes</td>\n",
       "      <td>['metformin']</td>\n",
       "    </tr>\n",
       "    <tr>\n",
       "      <th>447319</th>\n",
       "      <td>USA</td>\n",
       "      <td>93395304</td>\n",
       "      <td>Caucasian</td>\n",
       "      <td>Male</td>\n",
       "      <td>[20-30)</td>\n",
       "      <td>NaN</td>\n",
       "      <td>HM</td>\n",
       "      <td>0</td>\n",
       "      <td>0</td>\n",
       "      <td>1</td>\n",
       "      <td>...</td>\n",
       "      <td>7</td>\n",
       "      <td>250.13</td>\n",
       "      <td>70</td>\n",
       "      <td>794</td>\n",
       "      <td>7</td>\n",
       "      <td>&gt;300</td>\n",
       "      <td>NaN</td>\n",
       "      <td>No</td>\n",
       "      <td>No</td>\n",
       "      <td>[]</td>\n",
       "    </tr>\n",
       "    <tr>\n",
       "      <th>309126</th>\n",
       "      <td>USA</td>\n",
       "      <td>6281586</td>\n",
       "      <td>AfricanAmerican</td>\n",
       "      <td>Male</td>\n",
       "      <td>[30-40)</td>\n",
       "      <td>NaN</td>\n",
       "      <td>NaN</td>\n",
       "      <td>0</td>\n",
       "      <td>0</td>\n",
       "      <td>0</td>\n",
       "      <td>...</td>\n",
       "      <td>12</td>\n",
       "      <td>786</td>\n",
       "      <td>250.6</td>\n",
       "      <td>536</td>\n",
       "      <td>6</td>\n",
       "      <td>NaN</td>\n",
       "      <td>NaN</td>\n",
       "      <td>No</td>\n",
       "      <td>Yes</td>\n",
       "      <td>['insulin']</td>\n",
       "    </tr>\n",
       "    <tr>\n",
       "      <th>181183</th>\n",
       "      <td>USA</td>\n",
       "      <td>67381308</td>\n",
       "      <td>Caucasian</td>\n",
       "      <td>Male</td>\n",
       "      <td>[50-60)</td>\n",
       "      <td>NaN</td>\n",
       "      <td>BC</td>\n",
       "      <td>0</td>\n",
       "      <td>0</td>\n",
       "      <td>0</td>\n",
       "      <td>...</td>\n",
       "      <td>16</td>\n",
       "      <td>820</td>\n",
       "      <td>873</td>\n",
       "      <td>E884</td>\n",
       "      <td>9</td>\n",
       "      <td>NaN</td>\n",
       "      <td>NaN</td>\n",
       "      <td>Ch</td>\n",
       "      <td>Yes</td>\n",
       "      <td>['metformin', 'glyburide', 'insulin']</td>\n",
       "    </tr>\n",
       "    <tr>\n",
       "      <th>359339</th>\n",
       "      <td>USA</td>\n",
       "      <td>71670204</td>\n",
       "      <td>Caucasian</td>\n",
       "      <td>Male</td>\n",
       "      <td>[60-70)</td>\n",
       "      <td>NaN</td>\n",
       "      <td>NaN</td>\n",
       "      <td>0</td>\n",
       "      <td>0</td>\n",
       "      <td>0</td>\n",
       "      <td>...</td>\n",
       "      <td>10</td>\n",
       "      <td>599</td>\n",
       "      <td>427</td>\n",
       "      <td>414</td>\n",
       "      <td>9</td>\n",
       "      <td>NaN</td>\n",
       "      <td>NaN</td>\n",
       "      <td>No</td>\n",
       "      <td>Yes</td>\n",
       "      <td>['metformin']</td>\n",
       "    </tr>\n",
       "  </tbody>\n",
       "</table>\n",
       "<p>5 rows × 28 columns</p>\n",
       "</div>"
      ],
      "text/plain": [
       "             country  patient_id             race gender      age weight  \\\n",
       "encounter_id                                                               \n",
       "499502           USA   103232799        Caucasian   Male  [80-90)    NaN   \n",
       "447319           USA    93395304        Caucasian   Male  [20-30)    NaN   \n",
       "309126           USA     6281586  AfricanAmerican   Male  [30-40)    NaN   \n",
       "181183           USA    67381308        Caucasian   Male  [50-60)    NaN   \n",
       "359339           USA    71670204        Caucasian   Male  [60-70)    NaN   \n",
       "\n",
       "             payer_code  outpatient_visits_in_previous_year  \\\n",
       "encounter_id                                                  \n",
       "499502               HM                                   0   \n",
       "447319               HM                                   0   \n",
       "309126              NaN                                   0   \n",
       "181183               BC                                   0   \n",
       "359339              NaN                                   0   \n",
       "\n",
       "              emergency_visits_in_previous_year  \\\n",
       "encounter_id                                      \n",
       "499502                                        0   \n",
       "447319                                        0   \n",
       "309126                                        0   \n",
       "181183                                        0   \n",
       "359339                                        0   \n",
       "\n",
       "              inpatient_visits_in_previous_year  ... number_of_medications  \\\n",
       "encounter_id                                     ...                         \n",
       "499502                                        0  ...                    14   \n",
       "447319                                        1  ...                     7   \n",
       "309126                                        0  ...                    12   \n",
       "181183                                        0  ...                    16   \n",
       "359339                                        0  ...                    10   \n",
       "\n",
       "             primary_diagnosis  secondary_diagnosis additional_diagnosis  \\\n",
       "encounter_id                                                               \n",
       "499502                     491                  414                  250   \n",
       "447319                  250.13                   70                  794   \n",
       "309126                     786                250.6                  536   \n",
       "181183                     820                  873                 E884   \n",
       "359339                     599                  427                  414   \n",
       "\n",
       "             number_diagnoses  glucose_test_result  a1c_test_result  \\\n",
       "encounter_id                                                          \n",
       "499502                      6                  NaN              NaN   \n",
       "447319                      7                 >300              NaN   \n",
       "309126                      6                  NaN              NaN   \n",
       "181183                      9                  NaN              NaN   \n",
       "359339                      9                  NaN              NaN   \n",
       "\n",
       "              change_in_meds_during_hospitalization  prescribed_diabetes_meds  \\\n",
       "encounter_id                                                                    \n",
       "499502                                           No                       Yes   \n",
       "447319                                           No                        No   \n",
       "309126                                           No                       Yes   \n",
       "181183                                           Ch                       Yes   \n",
       "359339                                           No                       Yes   \n",
       "\n",
       "                                         medication  \n",
       "encounter_id                                         \n",
       "499502                                ['metformin']  \n",
       "447319                                           []  \n",
       "309126                                  ['insulin']  \n",
       "181183        ['metformin', 'glyburide', 'insulin']  \n",
       "359339                                ['metformin']  \n",
       "\n",
       "[5 rows x 28 columns]"
      ]
     },
     "execution_count": 534,
     "metadata": {},
     "output_type": "execute_result"
    }
   ],
   "source": [
    "test = pd.read_csv('https://raw.githubusercontent.com/Sebastiao199/Project_Group18_ML/main/test.csv', na_values=['?', ''], index_col='encounter_id')\n",
    "test.head()"
   ]
  },
  {
   "cell_type": "code",
   "execution_count": 535,
   "id": "5bf2ee6b",
   "metadata": {},
   "outputs": [],
   "source": [
    "test.drop(['country','weight'], axis=1, inplace=True)"
   ]
  },
  {
   "cell_type": "code",
   "execution_count": 536,
   "id": "d10b04e3",
   "metadata": {
    "scrolled": true
   },
   "outputs": [
    {
     "data": {
      "text/plain": [
       "patient_id                                   0\n",
       "race                                      2191\n",
       "gender                                       0\n",
       "age                                       1531\n",
       "payer_code                               12055\n",
       "outpatient_visits_in_previous_year           0\n",
       "emergency_visits_in_previous_year            0\n",
       "inpatient_visits_in_previous_year            0\n",
       "admission_type                            1585\n",
       "medical_specialty                        15027\n",
       "average_pulse_bpm                            0\n",
       "discharge_disposition                     1101\n",
       "admission_source                          2063\n",
       "length_of_stay_in_hospital                   0\n",
       "number_lab_tests                             0\n",
       "non_lab_procedures                           0\n",
       "number_of_medications                        0\n",
       "primary_diagnosis                            5\n",
       "secondary_diagnosis                         96\n",
       "additional_diagnosis                       415\n",
       "number_diagnoses                             0\n",
       "glucose_test_result                      28872\n",
       "a1c_test_result                          25428\n",
       "change_in_meds_during_hospitalization        0\n",
       "prescribed_diabetes_meds                     0\n",
       "medication                                   0\n",
       "dtype: int64"
      ]
     },
     "execution_count": 536,
     "metadata": {},
     "output_type": "execute_result"
    }
   ],
   "source": [
    "test.isna().sum()"
   ]
  },
  {
   "cell_type": "code",
   "execution_count": 537,
   "id": "6806263e",
   "metadata": {},
   "outputs": [],
   "source": [
    "test['race'].fillna('Unknown', inplace=True)\n",
    "test['medical_specialty'].fillna('Unknown', inplace=True)\n",
    "test['admission_source'].fillna('Unknown', inplace=True)\n",
    "test['payer_code'].fillna('None', inplace=True)\n",
    "test['glucose_test_result'].fillna('None', inplace=True)\n",
    "test['a1c_test_result'].fillna('None', inplace=True)\n",
    "test['admission_type'].fillna('Unknown', inplace=True)\n",
    "test['age'].fillna('Unknown', inplace=True)\n",
    "test['discharge_disposition'].fillna('Unknown', inplace=True)\n",
    "test['primary_diagnosis'].fillna('Unknown', inplace=True)\n",
    "test['secondary_diagnosis'].fillna('Unknown', inplace=True)\n",
    "test['additional_diagnosis'].fillna('Unknown', inplace=True)"
   ]
  },
  {
   "cell_type": "code",
   "execution_count": 538,
   "id": "7f5bcc85",
   "metadata": {
    "scrolled": false
   },
   "outputs": [
    {
     "data": {
      "text/plain": [
       "patient_id                               0\n",
       "race                                     0\n",
       "gender                                   0\n",
       "age                                      0\n",
       "payer_code                               0\n",
       "outpatient_visits_in_previous_year       0\n",
       "emergency_visits_in_previous_year        0\n",
       "inpatient_visits_in_previous_year        0\n",
       "admission_type                           0\n",
       "medical_specialty                        0\n",
       "average_pulse_bpm                        0\n",
       "discharge_disposition                    0\n",
       "admission_source                         0\n",
       "length_of_stay_in_hospital               0\n",
       "number_lab_tests                         0\n",
       "non_lab_procedures                       0\n",
       "number_of_medications                    0\n",
       "primary_diagnosis                        0\n",
       "secondary_diagnosis                      0\n",
       "additional_diagnosis                     0\n",
       "number_diagnoses                         0\n",
       "glucose_test_result                      0\n",
       "a1c_test_result                          0\n",
       "change_in_meds_during_hospitalization    0\n",
       "prescribed_diabetes_meds                 0\n",
       "medication                               0\n",
       "dtype: int64"
      ]
     },
     "execution_count": 538,
     "metadata": {},
     "output_type": "execute_result"
    }
   ],
   "source": [
    "test.isna().sum()"
   ]
  },
  {
   "cell_type": "code",
   "execution_count": 539,
   "id": "de0581f4",
   "metadata": {},
   "outputs": [],
   "source": [
    "new_column_names = {'outpatient_visits_in_previous_year': 'outpatient_visits', \n",
    "                    'emergency_visits_in_previous_year': 'emergency_visits',\n",
    "                    'inpatient_visits_in_previous_year': 'inpatient_visits',\n",
    "                    'change_in_meds_during_hospitalization': 'change_in_meds',\n",
    "                    'length_of_stay_in_hospital': 'length_of_stay',\n",
    "                    'prescribed_diabetes_meds': 'diabetes_meds'\n",
    "                   }\n",
    "test = test.rename(columns=new_column_names)"
   ]
  },
  {
   "cell_type": "code",
   "execution_count": 540,
   "id": "f073e077",
   "metadata": {},
   "outputs": [
    {
     "data": {
      "text/plain": [
       "encounter_id\n",
       "499502     3\n",
       "447319    10\n",
       "309126     2\n",
       "181183     4\n",
       "359339     1\n",
       "          ..\n",
       "451150     4\n",
       "549298     2\n",
       "327586     2\n",
       "351214    14\n",
       "914270     3\n",
       "Name: length_of_stay, Length: 30530, dtype: int64"
      ]
     },
     "execution_count": 540,
     "metadata": {},
     "output_type": "execute_result"
    }
   ],
   "source": [
    "test['length_of_stay']"
   ]
  },
  {
   "cell_type": "code",
   "execution_count": 541,
   "id": "3e5c6bed",
   "metadata": {},
   "outputs": [
    {
     "data": {
      "text/plain": [
       "race\n",
       "Caucasian          21617\n",
       "AfricanAmerican     5535\n",
       "Unknown             2191\n",
       "Hispanic             563\n",
       "Other                437\n",
       "Asian                187\n",
       "Name: count, dtype: int64"
      ]
     },
     "execution_count": 541,
     "metadata": {},
     "output_type": "execute_result"
    }
   ],
   "source": [
    "test['race'].value_counts()"
   ]
  },
  {
   "cell_type": "code",
   "execution_count": 542,
   "id": "f335a911",
   "metadata": {},
   "outputs": [],
   "source": [
    "unknown = train[train['race']== 'Unknown']['patient_id'].unique()\n",
    "\n",
    "known_race = train[train['patient_id'].isin(unknown) & train['race']!= 'Unknown']"
   ]
  },
  {
   "cell_type": "code",
   "execution_count": 543,
   "id": "382bb073",
   "metadata": {},
   "outputs": [
    {
     "data": {
      "text/html": [
       "<div>\n",
       "<style scoped>\n",
       "    .dataframe tbody tr th:only-of-type {\n",
       "        vertical-align: middle;\n",
       "    }\n",
       "\n",
       "    .dataframe tbody tr th {\n",
       "        vertical-align: top;\n",
       "    }\n",
       "\n",
       "    .dataframe thead th {\n",
       "        text-align: right;\n",
       "    }\n",
       "</style>\n",
       "<table border=\"1\" class=\"dataframe\">\n",
       "  <thead>\n",
       "    <tr style=\"text-align: right;\">\n",
       "      <th></th>\n",
       "      <th>patient_id</th>\n",
       "      <th>race</th>\n",
       "      <th>gender</th>\n",
       "      <th>age</th>\n",
       "      <th>payer_code</th>\n",
       "      <th>outpatient_visits</th>\n",
       "      <th>emergency_visits</th>\n",
       "      <th>inpatient_visits</th>\n",
       "      <th>admission_type</th>\n",
       "      <th>medical_specialty</th>\n",
       "      <th>...</th>\n",
       "      <th>number_of_medications</th>\n",
       "      <th>primary_diagnosis</th>\n",
       "      <th>secondary_diagnosis</th>\n",
       "      <th>additional_diagnosis</th>\n",
       "      <th>number_diagnoses</th>\n",
       "      <th>glucose_test_result</th>\n",
       "      <th>a1c_test_result</th>\n",
       "      <th>change_in_meds</th>\n",
       "      <th>diabetes_meds</th>\n",
       "      <th>medication</th>\n",
       "    </tr>\n",
       "    <tr>\n",
       "      <th>encounter_id</th>\n",
       "      <th></th>\n",
       "      <th></th>\n",
       "      <th></th>\n",
       "      <th></th>\n",
       "      <th></th>\n",
       "      <th></th>\n",
       "      <th></th>\n",
       "      <th></th>\n",
       "      <th></th>\n",
       "      <th></th>\n",
       "      <th></th>\n",
       "      <th></th>\n",
       "      <th></th>\n",
       "      <th></th>\n",
       "      <th></th>\n",
       "      <th></th>\n",
       "      <th></th>\n",
       "      <th></th>\n",
       "      <th></th>\n",
       "      <th></th>\n",
       "      <th></th>\n",
       "    </tr>\n",
       "  </thead>\n",
       "  <tbody>\n",
       "    <tr>\n",
       "      <th>499502</th>\n",
       "      <td>103232799</td>\n",
       "      <td>Caucasian</td>\n",
       "      <td>Male</td>\n",
       "      <td>[80-90)</td>\n",
       "      <td>HM</td>\n",
       "      <td>0</td>\n",
       "      <td>0</td>\n",
       "      <td>0</td>\n",
       "      <td>Emergency</td>\n",
       "      <td>Unknown</td>\n",
       "      <td>...</td>\n",
       "      <td>14</td>\n",
       "      <td>491</td>\n",
       "      <td>414</td>\n",
       "      <td>250</td>\n",
       "      <td>6</td>\n",
       "      <td>None</td>\n",
       "      <td>None</td>\n",
       "      <td>No</td>\n",
       "      <td>Yes</td>\n",
       "      <td>['metformin']</td>\n",
       "    </tr>\n",
       "    <tr>\n",
       "      <th>447319</th>\n",
       "      <td>93395304</td>\n",
       "      <td>Caucasian</td>\n",
       "      <td>Male</td>\n",
       "      <td>[20-30)</td>\n",
       "      <td>HM</td>\n",
       "      <td>0</td>\n",
       "      <td>0</td>\n",
       "      <td>1</td>\n",
       "      <td>Emergency</td>\n",
       "      <td>Unknown</td>\n",
       "      <td>...</td>\n",
       "      <td>7</td>\n",
       "      <td>250.13</td>\n",
       "      <td>70</td>\n",
       "      <td>794</td>\n",
       "      <td>7</td>\n",
       "      <td>&gt;300</td>\n",
       "      <td>None</td>\n",
       "      <td>No</td>\n",
       "      <td>No</td>\n",
       "      <td>[]</td>\n",
       "    </tr>\n",
       "    <tr>\n",
       "      <th>309126</th>\n",
       "      <td>6281586</td>\n",
       "      <td>AfricanAmerican</td>\n",
       "      <td>Male</td>\n",
       "      <td>[30-40)</td>\n",
       "      <td>None</td>\n",
       "      <td>0</td>\n",
       "      <td>0</td>\n",
       "      <td>0</td>\n",
       "      <td>Emergency</td>\n",
       "      <td>Pulmonology</td>\n",
       "      <td>...</td>\n",
       "      <td>12</td>\n",
       "      <td>786</td>\n",
       "      <td>250.6</td>\n",
       "      <td>536</td>\n",
       "      <td>6</td>\n",
       "      <td>None</td>\n",
       "      <td>None</td>\n",
       "      <td>No</td>\n",
       "      <td>Yes</td>\n",
       "      <td>['insulin']</td>\n",
       "    </tr>\n",
       "    <tr>\n",
       "      <th>181183</th>\n",
       "      <td>67381308</td>\n",
       "      <td>Caucasian</td>\n",
       "      <td>Male</td>\n",
       "      <td>[50-60)</td>\n",
       "      <td>BC</td>\n",
       "      <td>0</td>\n",
       "      <td>0</td>\n",
       "      <td>0</td>\n",
       "      <td>Not Available</td>\n",
       "      <td>Unknown</td>\n",
       "      <td>...</td>\n",
       "      <td>16</td>\n",
       "      <td>820</td>\n",
       "      <td>873</td>\n",
       "      <td>E884</td>\n",
       "      <td>9</td>\n",
       "      <td>None</td>\n",
       "      <td>None</td>\n",
       "      <td>Ch</td>\n",
       "      <td>Yes</td>\n",
       "      <td>['metformin', 'glyburide', 'insulin']</td>\n",
       "    </tr>\n",
       "    <tr>\n",
       "      <th>359339</th>\n",
       "      <td>71670204</td>\n",
       "      <td>Caucasian</td>\n",
       "      <td>Male</td>\n",
       "      <td>[60-70)</td>\n",
       "      <td>None</td>\n",
       "      <td>0</td>\n",
       "      <td>0</td>\n",
       "      <td>0</td>\n",
       "      <td>Emergency</td>\n",
       "      <td>InternalMedicine</td>\n",
       "      <td>...</td>\n",
       "      <td>10</td>\n",
       "      <td>599</td>\n",
       "      <td>427</td>\n",
       "      <td>414</td>\n",
       "      <td>9</td>\n",
       "      <td>None</td>\n",
       "      <td>None</td>\n",
       "      <td>No</td>\n",
       "      <td>Yes</td>\n",
       "      <td>['metformin']</td>\n",
       "    </tr>\n",
       "    <tr>\n",
       "      <th>...</th>\n",
       "      <td>...</td>\n",
       "      <td>...</td>\n",
       "      <td>...</td>\n",
       "      <td>...</td>\n",
       "      <td>...</td>\n",
       "      <td>...</td>\n",
       "      <td>...</td>\n",
       "      <td>...</td>\n",
       "      <td>...</td>\n",
       "      <td>...</td>\n",
       "      <td>...</td>\n",
       "      <td>...</td>\n",
       "      <td>...</td>\n",
       "      <td>...</td>\n",
       "      <td>...</td>\n",
       "      <td>...</td>\n",
       "      <td>...</td>\n",
       "      <td>...</td>\n",
       "      <td>...</td>\n",
       "      <td>...</td>\n",
       "      <td>...</td>\n",
       "    </tr>\n",
       "    <tr>\n",
       "      <th>451150</th>\n",
       "      <td>85707450</td>\n",
       "      <td>Caucasian</td>\n",
       "      <td>Male</td>\n",
       "      <td>[70-80)</td>\n",
       "      <td>HM</td>\n",
       "      <td>0</td>\n",
       "      <td>0</td>\n",
       "      <td>0</td>\n",
       "      <td>Emergency</td>\n",
       "      <td>Unknown</td>\n",
       "      <td>...</td>\n",
       "      <td>11</td>\n",
       "      <td>584</td>\n",
       "      <td>276</td>\n",
       "      <td>276</td>\n",
       "      <td>9</td>\n",
       "      <td>None</td>\n",
       "      <td>None</td>\n",
       "      <td>No</td>\n",
       "      <td>No</td>\n",
       "      <td>[]</td>\n",
       "    </tr>\n",
       "    <tr>\n",
       "      <th>549298</th>\n",
       "      <td>328887</td>\n",
       "      <td>Caucasian</td>\n",
       "      <td>Male</td>\n",
       "      <td>[60-70)</td>\n",
       "      <td>None</td>\n",
       "      <td>0</td>\n",
       "      <td>0</td>\n",
       "      <td>4</td>\n",
       "      <td>Emergency</td>\n",
       "      <td>Family/GeneralPractice</td>\n",
       "      <td>...</td>\n",
       "      <td>19</td>\n",
       "      <td>428</td>\n",
       "      <td>250.83</td>\n",
       "      <td>276</td>\n",
       "      <td>9</td>\n",
       "      <td>None</td>\n",
       "      <td>None</td>\n",
       "      <td>No</td>\n",
       "      <td>Yes</td>\n",
       "      <td>['insulin']</td>\n",
       "    </tr>\n",
       "    <tr>\n",
       "      <th>327586</th>\n",
       "      <td>21915459</td>\n",
       "      <td>Caucasian</td>\n",
       "      <td>Female</td>\n",
       "      <td>[80-90)</td>\n",
       "      <td>None</td>\n",
       "      <td>0</td>\n",
       "      <td>0</td>\n",
       "      <td>0</td>\n",
       "      <td>Emergency</td>\n",
       "      <td>Nephrology</td>\n",
       "      <td>...</td>\n",
       "      <td>22</td>\n",
       "      <td>996</td>\n",
       "      <td>403</td>\n",
       "      <td>250</td>\n",
       "      <td>6</td>\n",
       "      <td>None</td>\n",
       "      <td>None</td>\n",
       "      <td>No</td>\n",
       "      <td>Yes</td>\n",
       "      <td>['insulin']</td>\n",
       "    </tr>\n",
       "    <tr>\n",
       "      <th>351214</th>\n",
       "      <td>17823546</td>\n",
       "      <td>Caucasian</td>\n",
       "      <td>Male</td>\n",
       "      <td>Unknown</td>\n",
       "      <td>MC</td>\n",
       "      <td>0</td>\n",
       "      <td>0</td>\n",
       "      <td>0</td>\n",
       "      <td>Urgent</td>\n",
       "      <td>InternalMedicine</td>\n",
       "      <td>...</td>\n",
       "      <td>21</td>\n",
       "      <td>153</td>\n",
       "      <td>780</td>\n",
       "      <td>285</td>\n",
       "      <td>5</td>\n",
       "      <td>None</td>\n",
       "      <td>&gt;7</td>\n",
       "      <td>Ch</td>\n",
       "      <td>Yes</td>\n",
       "      <td>['glipizide', 'pioglitazone', 'insulin']</td>\n",
       "    </tr>\n",
       "    <tr>\n",
       "      <th>914270</th>\n",
       "      <td>42043239</td>\n",
       "      <td>Caucasian</td>\n",
       "      <td>Female</td>\n",
       "      <td>[60-70)</td>\n",
       "      <td>MD</td>\n",
       "      <td>0</td>\n",
       "      <td>0</td>\n",
       "      <td>1</td>\n",
       "      <td>Elective</td>\n",
       "      <td>Unknown</td>\n",
       "      <td>...</td>\n",
       "      <td>11</td>\n",
       "      <td>486</td>\n",
       "      <td>Unknown</td>\n",
       "      <td>428</td>\n",
       "      <td>8</td>\n",
       "      <td>None</td>\n",
       "      <td>None</td>\n",
       "      <td>No</td>\n",
       "      <td>Yes</td>\n",
       "      <td>['pioglitazone']</td>\n",
       "    </tr>\n",
       "  </tbody>\n",
       "</table>\n",
       "<p>30530 rows × 26 columns</p>\n",
       "</div>"
      ],
      "text/plain": [
       "              patient_id             race  gender      age payer_code  \\\n",
       "encounter_id                                                            \n",
       "499502         103232799        Caucasian    Male  [80-90)         HM   \n",
       "447319          93395304        Caucasian    Male  [20-30)         HM   \n",
       "309126           6281586  AfricanAmerican    Male  [30-40)       None   \n",
       "181183          67381308        Caucasian    Male  [50-60)         BC   \n",
       "359339          71670204        Caucasian    Male  [60-70)       None   \n",
       "...                  ...              ...     ...      ...        ...   \n",
       "451150          85707450        Caucasian    Male  [70-80)         HM   \n",
       "549298            328887        Caucasian    Male  [60-70)       None   \n",
       "327586          21915459        Caucasian  Female  [80-90)       None   \n",
       "351214          17823546        Caucasian    Male  Unknown         MC   \n",
       "914270          42043239        Caucasian  Female  [60-70)         MD   \n",
       "\n",
       "              outpatient_visits  emergency_visits  inpatient_visits  \\\n",
       "encounter_id                                                          \n",
       "499502                        0                 0                 0   \n",
       "447319                        0                 0                 1   \n",
       "309126                        0                 0                 0   \n",
       "181183                        0                 0                 0   \n",
       "359339                        0                 0                 0   \n",
       "...                         ...               ...               ...   \n",
       "451150                        0                 0                 0   \n",
       "549298                        0                 0                 4   \n",
       "327586                        0                 0                 0   \n",
       "351214                        0                 0                 0   \n",
       "914270                        0                 0                 1   \n",
       "\n",
       "             admission_type       medical_specialty  ...  \\\n",
       "encounter_id                                         ...   \n",
       "499502            Emergency                 Unknown  ...   \n",
       "447319            Emergency                 Unknown  ...   \n",
       "309126            Emergency             Pulmonology  ...   \n",
       "181183        Not Available                 Unknown  ...   \n",
       "359339            Emergency        InternalMedicine  ...   \n",
       "...                     ...                     ...  ...   \n",
       "451150            Emergency                 Unknown  ...   \n",
       "549298            Emergency  Family/GeneralPractice  ...   \n",
       "327586            Emergency              Nephrology  ...   \n",
       "351214               Urgent        InternalMedicine  ...   \n",
       "914270             Elective                 Unknown  ...   \n",
       "\n",
       "              number_of_medications primary_diagnosis secondary_diagnosis  \\\n",
       "encounter_id                                                                \n",
       "499502                           14               491                 414   \n",
       "447319                            7            250.13                  70   \n",
       "309126                           12               786               250.6   \n",
       "181183                           16               820                 873   \n",
       "359339                           10               599                 427   \n",
       "...                             ...               ...                 ...   \n",
       "451150                           11               584                 276   \n",
       "549298                           19               428              250.83   \n",
       "327586                           22               996                 403   \n",
       "351214                           21               153                 780   \n",
       "914270                           11               486             Unknown   \n",
       "\n",
       "              additional_diagnosis  number_diagnoses  glucose_test_result  \\\n",
       "encounter_id                                                                \n",
       "499502                         250                 6                 None   \n",
       "447319                         794                 7                 >300   \n",
       "309126                         536                 6                 None   \n",
       "181183                        E884                 9                 None   \n",
       "359339                         414                 9                 None   \n",
       "...                            ...               ...                  ...   \n",
       "451150                         276                 9                 None   \n",
       "549298                         276                 9                 None   \n",
       "327586                         250                 6                 None   \n",
       "351214                         285                 5                 None   \n",
       "914270                         428                 8                 None   \n",
       "\n",
       "              a1c_test_result change_in_meds diabetes_meds  \\\n",
       "encounter_id                                                 \n",
       "499502                   None             No           Yes   \n",
       "447319                   None             No            No   \n",
       "309126                   None             No           Yes   \n",
       "181183                   None             Ch           Yes   \n",
       "359339                   None             No           Yes   \n",
       "...                       ...            ...           ...   \n",
       "451150                   None             No            No   \n",
       "549298                   None             No           Yes   \n",
       "327586                   None             No           Yes   \n",
       "351214                     >7             Ch           Yes   \n",
       "914270                   None             No           Yes   \n",
       "\n",
       "                                            medication  \n",
       "encounter_id                                            \n",
       "499502                                   ['metformin']  \n",
       "447319                                              []  \n",
       "309126                                     ['insulin']  \n",
       "181183           ['metformin', 'glyburide', 'insulin']  \n",
       "359339                                   ['metformin']  \n",
       "...                                                ...  \n",
       "451150                                              []  \n",
       "549298                                     ['insulin']  \n",
       "327586                                     ['insulin']  \n",
       "351214        ['glipizide', 'pioglitazone', 'insulin']  \n",
       "914270                                ['pioglitazone']  \n",
       "\n",
       "[30530 rows x 26 columns]"
      ]
     },
     "execution_count": 543,
     "metadata": {},
     "output_type": "execute_result"
    }
   ],
   "source": [
    "def fill_race(df):\n",
    "    for i, row in df.iterrows():\n",
    "        if row['race'] == 'Unknown':\n",
    "            # Check if there are any other rows with the same 'person_id' and 'race' not equal to 'Unknown'\n",
    "            other_rows = df[(df['patient_id'] == row['patient_id']) & (df['race'] != 'Unknown')]\n",
    "            if not other_rows.empty:\n",
    "                # If such a row is found, replace the 'race' of the current row with the 'race' of the found row\n",
    "                df.at[i, 'race'] = other_rows.iloc[0]['race']\n",
    "    return df\n",
    "\n",
    "fill_race(test)"
   ]
  },
  {
   "cell_type": "code",
   "execution_count": 544,
   "id": "118988da",
   "metadata": {},
   "outputs": [],
   "source": [
    "replace_race = {\n",
    "    'Unknown': 'Other',\n",
    "    'Hispanic': 'Other',\n",
    "    'Asian': 'Other'}\n",
    "\n",
    "test['race'] = train['race'].replace(replace_race)"
   ]
  },
  {
   "cell_type": "code",
   "execution_count": 545,
   "id": "c35416aa",
   "metadata": {
    "scrolled": false
   },
   "outputs": [
    {
     "data": {
      "text/plain": [
       "race\n",
       "Caucasian          21617\n",
       "AfricanAmerican     5535\n",
       "Other               1187\n",
       "Name: count, dtype: int64"
      ]
     },
     "execution_count": 545,
     "metadata": {},
     "output_type": "execute_result"
    }
   ],
   "source": [
    "test['race'].value_counts()"
   ]
  },
  {
   "cell_type": "code",
   "execution_count": 546,
   "id": "bdbb6aac",
   "metadata": {},
   "outputs": [],
   "source": [
    "test['medication'] = test['medication'].str.replace('[]', 'no medication')"
   ]
  },
  {
   "cell_type": "code",
   "execution_count": 547,
   "id": "7487ca01",
   "metadata": {},
   "outputs": [],
   "source": [
    "test['number_prescriptions'] = test['medication'].apply(lambda x: 0 if x=='no medication' else len((x.replace(\"[\", \"\").replace(\"]\", \"\")).split(',')))"
   ]
  },
  {
   "cell_type": "code",
   "execution_count": 548,
   "id": "7b8ed070",
   "metadata": {},
   "outputs": [],
   "source": [
    "#no medication = 0 | medication taken=1\n",
    "test['medication'] = np.where(test['medication']== 'no medication',0,1)"
   ]
  },
  {
   "cell_type": "code",
   "execution_count": 549,
   "id": "d836ec42",
   "metadata": {
    "scrolled": false
   },
   "outputs": [
    {
     "data": {
      "text/plain": [
       "medication\n",
       "1    0.76885\n",
       "0    0.23115\n",
       "Name: proportion, dtype: float64"
      ]
     },
     "execution_count": 549,
     "metadata": {},
     "output_type": "execute_result"
    }
   ],
   "source": [
    "test['medication'].value_counts(normalize=True)"
   ]
  },
  {
   "cell_type": "code",
   "execution_count": 550,
   "id": "420becc3",
   "metadata": {
    "scrolled": true
   },
   "outputs": [
    {
     "data": {
      "text/plain": [
       "encounter_id\n",
       "990126    1\n",
       "252924    1\n",
       "707897    1\n",
       "915560    1\n",
       "353917    1\n",
       "965253    1\n",
       "763262    1\n",
       "658521    1\n",
       "821858    1\n",
       "410586    1\n",
       "954243    1\n",
       "319387    1\n",
       "991505    1\n",
       "760667    1\n",
       "440154    1\n",
       "413789    1\n",
       "182499    1\n",
       "Name: medication, dtype: int64"
      ]
     },
     "execution_count": 550,
     "metadata": {},
     "output_type": "execute_result"
    }
   ],
   "source": [
    "# pd.set_option('display.max_colwidth', None)\n",
    "test[test['number_prescriptions']==5]['medication']"
   ]
  },
  {
   "cell_type": "code",
   "execution_count": 551,
   "id": "6b6ce8c4",
   "metadata": {},
   "outputs": [],
   "source": [
    "data = test['age']\n",
    "df = pd.DataFrame(data)\n",
    "\n",
    "# Extract the lower and upper age values as separate columns\n",
    "df[['Lower_Age', 'Upper_Age']] = df['age'].str.extract(r'\\[(\\d+)-(\\d+)\\)')\n",
    "\n",
    "df['Lower_Age'] = pd.to_numeric(df['Lower_Age'], errors='coerce', downcast='integer')\n",
    "df['Upper_Age'] = pd.to_numeric(df['Upper_Age'], errors='coerce', downcast='integer')\n",
    "\n",
    "\n",
    "df['Midpoint_Age'] = average_age = np.where(df['Lower_Age'].notna() & df['Upper_Age'].notna(),\n",
    "                       (df['Lower_Age'] + df['Upper_Age']) / 2,\n",
    "                       np.nan)\n",
    "\n",
    "test['Midpoint_Age'] = df['Midpoint_Age']\n",
    "test.drop('age', axis=1, inplace=True)"
   ]
  },
  {
   "cell_type": "code",
   "execution_count": 552,
   "id": "e72c4b8e",
   "metadata": {
    "scrolled": true
   },
   "outputs": [
    {
     "data": {
      "text/plain": [
       "gender\n",
       "Female    16480\n",
       "Male      14050\n",
       "Name: count, dtype: int64"
      ]
     },
     "execution_count": 552,
     "metadata": {},
     "output_type": "execute_result"
    }
   ],
   "source": [
    "test['gender'].value_counts()"
   ]
  },
  {
   "cell_type": "code",
   "execution_count": 553,
   "id": "b88f400d",
   "metadata": {},
   "outputs": [],
   "source": [
    "#Female = 0 Male = 1 and the Unknown/Invalid becomes Female because it is the mode\n",
    "test['gender_binary'] = np.where(test['gender']== 'Male',1,0)\n",
    "test.drop('gender', axis=1, inplace=True)"
   ]
  },
  {
   "cell_type": "code",
   "execution_count": 554,
   "id": "61acabba",
   "metadata": {},
   "outputs": [],
   "source": [
    "#No = 0 Yes = 1\n",
    "test['diabetes_meds_binary'] = np.where(test['diabetes_meds']== 'Yes',1,0)\n",
    "test.drop('diabetes_meds', axis=1, inplace=True)"
   ]
  },
  {
   "cell_type": "code",
   "execution_count": 555,
   "id": "2214d7bb",
   "metadata": {},
   "outputs": [],
   "source": [
    "#no change = 0 change = 1\n",
    "test['change_in_meds_binary'] = np.where(test['change_in_meds']== 'Ch',1,0)\n",
    "test.drop('change_in_meds', axis=1, inplace=True)"
   ]
  },
  {
   "cell_type": "code",
   "execution_count": 556,
   "id": "7a684338",
   "metadata": {},
   "outputs": [
    {
     "name": "stdout",
     "output_type": "stream",
     "text": [
      "There are 11 columns with categorical values:\n",
      "\n",
      "['race', 'payer_code', 'admission_type', 'medical_specialty', 'discharge_disposition', 'admission_source', 'primary_diagnosis', 'secondary_diagnosis', 'additional_diagnosis', 'glucose_test_result', 'a1c_test_result']\n"
     ]
    }
   ],
   "source": [
    "n_categorical_columns= len(test.select_dtypes(exclude=np.number).columns)\n",
    "categorical_columns = list(test.select_dtypes(exclude=np.number).columns)\n",
    "\n",
    "print('There are',n_categorical_columns, 'columns with categorical values:')\n",
    "print()\n",
    "print(categorical_columns)"
   ]
  },
  {
   "cell_type": "code",
   "execution_count": 557,
   "id": "d1b00053",
   "metadata": {},
   "outputs": [
    {
     "data": {
      "text/plain": [
       "payer_code\n",
       "None          0.394858\n",
       "MC            0.319555\n",
       "Other_code    0.221553\n",
       "HM            0.064035\n",
       "Name: proportion, dtype: float64"
      ]
     },
     "execution_count": 557,
     "metadata": {},
     "output_type": "execute_result"
    }
   ],
   "source": [
    "value_counts = test['payer_code'].value_counts(normalize=True)\n",
    "replace_payer_code = value_counts[value_counts < 0.05].index\n",
    "\n",
    "test['payer_code'] = test['payer_code'].replace(replace_payer_code, 'Other_code')\n",
    "test['payer_code'].value_counts(normalize=True)"
   ]
  },
  {
   "cell_type": "code",
   "execution_count": 558,
   "id": "56afbfc3",
   "metadata": {},
   "outputs": [
    {
     "data": {
      "text/plain": [
       "admission_type\n",
       "Emergency        16248\n",
       "Elective          5658\n",
       "Urgent            5456\n",
       "Unknown           1585\n",
       "Not Available     1465\n",
       "Not Mapped         106\n",
       "Trauma Center        8\n",
       "Newborn              4\n",
       "Name: count, dtype: int64"
      ]
     },
     "execution_count": 558,
     "metadata": {},
     "output_type": "execute_result"
    }
   ],
   "source": [
    "test[\"admission_type\"].value_counts()"
   ]
  },
  {
   "cell_type": "code",
   "execution_count": 559,
   "id": "2489c72f",
   "metadata": {
    "scrolled": true
   },
   "outputs": [
    {
     "data": {
      "text/html": [
       "<div>\n",
       "<style scoped>\n",
       "    .dataframe tbody tr th:only-of-type {\n",
       "        vertical-align: middle;\n",
       "    }\n",
       "\n",
       "    .dataframe tbody tr th {\n",
       "        vertical-align: top;\n",
       "    }\n",
       "\n",
       "    .dataframe thead th {\n",
       "        text-align: right;\n",
       "    }\n",
       "</style>\n",
       "<table border=\"1\" class=\"dataframe\">\n",
       "  <thead>\n",
       "    <tr style=\"text-align: right;\">\n",
       "      <th></th>\n",
       "      <th>Midpoint_Age</th>\n",
       "      <th>admission_type</th>\n",
       "    </tr>\n",
       "    <tr>\n",
       "      <th>encounter_id</th>\n",
       "      <th></th>\n",
       "      <th></th>\n",
       "    </tr>\n",
       "  </thead>\n",
       "  <tbody>\n",
       "    <tr>\n",
       "      <th>783279</th>\n",
       "      <td>85.0</td>\n",
       "      <td>Newborn</td>\n",
       "    </tr>\n",
       "    <tr>\n",
       "      <th>221436</th>\n",
       "      <td>65.0</td>\n",
       "      <td>Newborn</td>\n",
       "    </tr>\n",
       "    <tr>\n",
       "      <th>366149</th>\n",
       "      <td>65.0</td>\n",
       "      <td>Newborn</td>\n",
       "    </tr>\n",
       "    <tr>\n",
       "      <th>276317</th>\n",
       "      <td>65.0</td>\n",
       "      <td>Newborn</td>\n",
       "    </tr>\n",
       "  </tbody>\n",
       "</table>\n",
       "</div>"
      ],
      "text/plain": [
       "              Midpoint_Age admission_type\n",
       "encounter_id                             \n",
       "783279                85.0        Newborn\n",
       "221436                65.0        Newborn\n",
       "366149                65.0        Newborn\n",
       "276317                65.0        Newborn"
      ]
     },
     "execution_count": 559,
     "metadata": {},
     "output_type": "execute_result"
    }
   ],
   "source": [
    "test[test[\"admission_type\"]=='Newborn'][['Midpoint_Age',\"admission_type\"]]"
   ]
  },
  {
   "cell_type": "code",
   "execution_count": 560,
   "id": "010722c2",
   "metadata": {},
   "outputs": [
    {
     "data": {
      "text/html": [
       "<div>\n",
       "<style scoped>\n",
       "    .dataframe tbody tr th:only-of-type {\n",
       "        vertical-align: middle;\n",
       "    }\n",
       "\n",
       "    .dataframe tbody tr th {\n",
       "        vertical-align: top;\n",
       "    }\n",
       "\n",
       "    .dataframe thead th {\n",
       "        text-align: right;\n",
       "    }\n",
       "</style>\n",
       "<table border=\"1\" class=\"dataframe\">\n",
       "  <thead>\n",
       "    <tr style=\"text-align: right;\">\n",
       "      <th></th>\n",
       "      <th>Midpoint_Age</th>\n",
       "      <th>admission_type</th>\n",
       "    </tr>\n",
       "    <tr>\n",
       "      <th>encounter_id</th>\n",
       "      <th></th>\n",
       "      <th></th>\n",
       "    </tr>\n",
       "  </thead>\n",
       "  <tbody>\n",
       "    <tr>\n",
       "      <th>403796</th>\n",
       "      <td>65.0</td>\n",
       "      <td>Trauma Center</td>\n",
       "    </tr>\n",
       "    <tr>\n",
       "      <th>192244</th>\n",
       "      <td>95.0</td>\n",
       "      <td>Trauma Center</td>\n",
       "    </tr>\n",
       "    <tr>\n",
       "      <th>231841</th>\n",
       "      <td>65.0</td>\n",
       "      <td>Trauma Center</td>\n",
       "    </tr>\n",
       "    <tr>\n",
       "      <th>438710</th>\n",
       "      <td>55.0</td>\n",
       "      <td>Trauma Center</td>\n",
       "    </tr>\n",
       "    <tr>\n",
       "      <th>249717</th>\n",
       "      <td>85.0</td>\n",
       "      <td>Trauma Center</td>\n",
       "    </tr>\n",
       "    <tr>\n",
       "      <th>990687</th>\n",
       "      <td>45.0</td>\n",
       "      <td>Trauma Center</td>\n",
       "    </tr>\n",
       "    <tr>\n",
       "      <th>777137</th>\n",
       "      <td>15.0</td>\n",
       "      <td>Trauma Center</td>\n",
       "    </tr>\n",
       "    <tr>\n",
       "      <th>733152</th>\n",
       "      <td>55.0</td>\n",
       "      <td>Trauma Center</td>\n",
       "    </tr>\n",
       "  </tbody>\n",
       "</table>\n",
       "</div>"
      ],
      "text/plain": [
       "              Midpoint_Age admission_type\n",
       "encounter_id                             \n",
       "403796                65.0  Trauma Center\n",
       "192244                95.0  Trauma Center\n",
       "231841                65.0  Trauma Center\n",
       "438710                55.0  Trauma Center\n",
       "249717                85.0  Trauma Center\n",
       "990687                45.0  Trauma Center\n",
       "777137                15.0  Trauma Center\n",
       "733152                55.0  Trauma Center"
      ]
     },
     "execution_count": 560,
     "metadata": {},
     "output_type": "execute_result"
    }
   ],
   "source": [
    "test[test[\"admission_type\"]=='Trauma Center'][['Midpoint_Age',\"admission_type\"]]"
   ]
  },
  {
   "cell_type": "code",
   "execution_count": 561,
   "id": "a2198d02",
   "metadata": {
    "scrolled": true
   },
   "outputs": [
    {
     "data": {
      "text/plain": [
       "admission_type\n",
       "Emergency     0.532198\n",
       "Elective      0.185326\n",
       "Urgent        0.178709\n",
       "Other_type    0.103767\n",
       "Name: proportion, dtype: float64"
      ]
     },
     "execution_count": 561,
     "metadata": {},
     "output_type": "execute_result"
    }
   ],
   "source": [
    "value_counts = test['admission_type'].value_counts(normalize=True)\n",
    "replace_admission_type = value_counts[value_counts < 0.05].index\n",
    "\n",
    "test['admission_type'] = test['admission_type'].replace('Unknown', 'Other_type')\n",
    "test['admission_type'] = test['admission_type'].replace(replace_admission_type, 'Other_type')\n",
    "test['admission_type'].value_counts(normalize=True)"
   ]
  },
  {
   "cell_type": "code",
   "execution_count": 562,
   "id": "b3cf487b",
   "metadata": {
    "scrolled": true
   },
   "outputs": [
    {
     "data": {
      "text/plain": [
       "medical_specialty\n",
       "Unknown                                 0.492204\n",
       "InternalMedicine                        0.142254\n",
       "Emergency/Trauma                        0.073567\n",
       "Family/GeneralPractice                  0.072814\n",
       "Surgery                                 0.063020\n",
       "Cardiology                              0.053587\n",
       "Nephrology                              0.015624\n",
       "Orthopedics                             0.014609\n",
       "Radiologist                             0.010580\n",
       "Pulmonology                             0.008516\n",
       "Psychiatry                              0.008385\n",
       "Urology                                 0.006780\n",
       "ObstetricsandGynecology                 0.006649\n",
       "Gastroenterology                        0.005470\n",
       "Pediatric                               0.005241\n",
       "PhysicalMedicineandRehabilitation       0.003636\n",
       "Oncology                                0.003439\n",
       "Neurology                               0.002129\n",
       "Hematology/Oncology                     0.001769\n",
       "Endocrinology                           0.001277\n",
       "Otolaryngology                          0.001277\n",
       "Psychology                              0.001081\n",
       "Hematology                              0.000950\n",
       "Podiatry                                0.000852\n",
       "Hospitalist                             0.000622\n",
       "InfectiousDiseases                      0.000459\n",
       "Radiology                               0.000459\n",
       "Osteopath                               0.000393\n",
       "Ophthalmology                           0.000360\n",
       "SurgicalSpecialty                       0.000262\n",
       "Gynecology                              0.000262\n",
       "Anesthesiology                          0.000229\n",
       "Obsterics&Gynecology-GynecologicOnco    0.000229\n",
       "OutreachServices                        0.000164\n",
       "PhysicianNotFound                       0.000164\n",
       "Pathology                               0.000131\n",
       "Obstetrics                              0.000131\n",
       "DCPTEAM                                 0.000131\n",
       "Endocrinology-Metabolism                0.000098\n",
       "AllergyandImmunology                    0.000033\n",
       "Psychiatry-Addictive                    0.000033\n",
       "Dermatology                             0.000033\n",
       "Rheumatology                            0.000033\n",
       "Perinatology                            0.000033\n",
       "Psychiatry-Child/Adolescent             0.000033\n",
       "Name: proportion, dtype: float64"
      ]
     },
     "execution_count": 562,
     "metadata": {},
     "output_type": "execute_result"
    }
   ],
   "source": [
    "surgery = test[test['medical_specialty'].str.contains('Surgery|Surgeon|Reconstructive')]\n",
    "test.loc[surgery.index, 'medical_specialty'] = 'Surgery'\n",
    "\n",
    "pediatric = test[test['medical_specialty'].str.contains('Pediatrics|Pediatric')]\n",
    "test.loc[pediatric.index, 'medical_specialty'] = 'Pediatric'\n",
    "\n",
    "test['medical_specialty'].value_counts(normalize=True)"
   ]
  },
  {
   "cell_type": "code",
   "execution_count": 563,
   "id": "b8114633",
   "metadata": {
    "scrolled": false
   },
   "outputs": [
    {
     "data": {
      "text/plain": [
       "medical_specialty\n",
       "Other_specialty           0.594759\n",
       "InternalMedicine          0.142254\n",
       "Emergency/Trauma          0.073567\n",
       "Family/GeneralPractice    0.072814\n",
       "Surgery                   0.063020\n",
       "Cardiology                0.053587\n",
       "Name: proportion, dtype: float64"
      ]
     },
     "execution_count": 563,
     "metadata": {},
     "output_type": "execute_result"
    }
   ],
   "source": [
    "value_counts = test['medical_specialty'].value_counts(normalize=True)\n",
    "replace_medical_specialty = value_counts[value_counts < 0.05].index\n",
    "\n",
    "test['medical_specialty'] = test['medical_specialty'].replace('Unknown', 'Other_specialty')\n",
    "test['medical_specialty'] = test['medical_specialty'].replace(replace_medical_specialty, 'Other_specialty')\n",
    "test['medical_specialty'].value_counts(normalize=True)"
   ]
  },
  {
   "cell_type": "code",
   "execution_count": 564,
   "id": "f9be9b18",
   "metadata": {},
   "outputs": [],
   "source": [
    "test['medical_specialty'] = test['medical_specialty'].str.strip().str.replace('/', '_')"
   ]
  },
  {
   "cell_type": "code",
   "execution_count": 565,
   "id": "c878ada6",
   "metadata": {
    "scrolled": true
   },
   "outputs": [
    {
     "data": {
      "text/plain": [
       "discharge_disposition\n",
       "Discharged to home                                                                                           0.588863\n",
       "Discharged/transferred to SNF                                                                                0.136718\n",
       "Discharged/transferred to home with home health service                                                      0.127645\n",
       "Unknown                                                                                                      0.036063\n",
       "Discharged/transferred to another short term hospital                                                        0.020963\n",
       "Discharged/transferred to another rehab fac including rehab units of a hospital .                            0.019653\n",
       "Expired                                                                                                      0.016607\n",
       "Discharged/transferred to another type of inpatient care institution                                         0.011857\n",
       "Not Mapped                                                                                                   0.010154\n",
       "Discharged/transferred to ICF                                                                                0.007992\n",
       "Left AMA                                                                                                     0.006616\n",
       "Hospice / home                                                                                               0.004618\n",
       "Discharged/transferred to a long term care hospital.                                                         0.004324\n",
       "Hospice / medical facility                                                                                   0.003636\n",
       "Discharged/transferred/referred to a psychiatric hospital of psychiatric distinct part unit of a hospital    0.001343\n",
       "Discharged/transferred to home under care of Home IV provider                                                0.000884\n",
       "Discharged/transferred within this institution to Medicare approved swing bed                                0.000622\n",
       "Discharged/transferred to a nursing facility certified under Medicaid but not certified under Medicare.      0.000524\n",
       "Admitted as an inpatient to this hospital                                                                    0.000262\n",
       "Discharged/transferred/referred to this institution for outpatient services                                  0.000197\n",
       "Discharged/transferred/referred another institution for outpatient services                                  0.000131\n",
       "Neonate discharged to another hospital for neonatal aftercare                                                0.000131\n",
       "Discharged/transferred to a federal health care facility.                                                    0.000066\n",
       "Expired at home. Medicaid only, hospice.                                                                     0.000066\n",
       "Expired in a medical facility. Medicaid only, hospice.                                                       0.000033\n",
       "Still patient or expected to return for outpatient services                                                  0.000033\n",
       "Name: proportion, dtype: float64"
      ]
     },
     "execution_count": 565,
     "metadata": {},
     "output_type": "execute_result"
    }
   ],
   "source": [
    "test['discharge_disposition'].value_counts(normalize=True)"
   ]
  },
  {
   "cell_type": "code",
   "execution_count": 566,
   "id": "798ffb8f",
   "metadata": {},
   "outputs": [
    {
     "data": {
      "text/plain": [
       "discharge_disposition\n",
       "Discharged_to_home                                                                  0.717393\n",
       "Transferred_to_another_medical_facility                                             0.169669\n",
       "Other                                                                               0.085752\n",
       "Expired                                                                             0.016705\n",
       "Unknown                                                                             0.010154\n",
       "Discharged_transferred_referred_another_this_institution_for_outpatient_services    0.000328\n",
       "Name: proportion, dtype: float64"
      ]
     },
     "execution_count": 566,
     "metadata": {},
     "output_type": "execute_result"
    }
   ],
   "source": [
    "expired = test[test['discharge_disposition'].str.contains('Expired')]\n",
    "test.loc[expired.index, 'discharge_disposition'] = 'Expired'\n",
    "\n",
    "hospice = test[test['discharge_disposition'].str.contains('Hospice')]\n",
    "test.loc[hospice.index, 'discharge_disposition'] = 'Hospice'\n",
    "\n",
    "another_medical_facility = ['Discharged/transferred to SNF', 'Discharged/transferred to another short term hospital', 'Discharged/transferred to another rehab fac including rehab units of a hospital', 'Discharged/transferred to another type of inpatient care institution', 'Discharged/transferred to a long term care hospital', 'Discharged/transferred to a federal health care facility','Neonate discharged to another hospital for neonatal aftercare']\n",
    "test['discharge_disposition'] = test['discharge_disposition'].replace(another_medical_facility, 'Transferred_to_another_medical_facility')\n",
    "\n",
    "outpatient = ['Discharged/transferred/referred to this institution for outpatient services','Discharged/transferred/referred another institution for outpatient services']\n",
    "test['discharge_disposition'] = test['discharge_disposition'].replace(outpatient, 'Discharged_transferred_referred_another_this_institution_for_outpatient_services')\n",
    "\n",
    "home = test[test['discharge_disposition'].str.contains('home')]\n",
    "test.loc[home.index, 'discharge_disposition'] = 'Discharged_to_home'\n",
    "\n",
    "other = ['Discharged/transferred to another rehab fac including rehab units of a hospital','Discharged/transferred to ICF','Hospice',\n",
    "         'Left AMA','Discharged/transferred to a long term care hospital.','Discharged/transferred/referred to a psychiatric hospital of psychiatric distinct part unit of a hospital',\n",
    "         'Discharged/transferred within this institution to Medicare approved swing bed','Discharged/transferred to a nursing facility certified under Medicaid but not certified under Medicare.',\n",
    "         'Discharged/transferred/referred another/this institution for outpatient services',\n",
    "         'Discharged/transferred to a federal health care facility.','Discharged/transferred to another rehab fac including rehab units of a hospital .','Unknown',\n",
    "         'Admitted as an inpatient to this hospital', 'Still patient or expected to return for outpatient services']\n",
    "\n",
    "test['discharge_disposition'] = test['discharge_disposition'].replace(other, 'Other')\n",
    "\n",
    "\n",
    "test['discharge_disposition'] = test['discharge_disposition'].replace('Not Mapped', 'Unknown')\n",
    "\n",
    "test['discharge_disposition'].value_counts(normalize=True)"
   ]
  },
  {
   "cell_type": "code",
   "execution_count": 567,
   "id": "dd191041",
   "metadata": {
    "scrolled": true
   },
   "outputs": [
    {
     "data": {
      "text/plain": [
       "admission_source\n",
       " Emergency Room                                               0.562561\n",
       " Physician Referral                                           0.291091\n",
       "Unknown                                                       0.070554\n",
       "Transfer from a hospital                                      0.031346\n",
       " Transfer from another health care facility                   0.022994\n",
       "Clinic Referral                                               0.010645\n",
       " Transfer from a Skilled Nursing Facility (SNF)               0.008516\n",
       "HMO Referral                                                  0.001900\n",
       " Court/Law Enforcement                                        0.000164\n",
       " Transfer from hospital inpt/same fac reslt in a sep claim    0.000131\n",
       "Normal Delivery                                               0.000033\n",
       " Transfer from critial access hospital                        0.000033\n",
       " Extramural Birth                                             0.000033\n",
       "Name: proportion, dtype: float64"
      ]
     },
     "execution_count": 567,
     "metadata": {},
     "output_type": "execute_result"
    }
   ],
   "source": [
    "unknown = [' Not Mapped',' Not Available']\n",
    "test['admission_source'] = test['admission_source'].replace(unknown, 'Unknown')\n",
    "test['admission_source'].value_counts(normalize=True)"
   ]
  },
  {
   "cell_type": "code",
   "execution_count": 568,
   "id": "47bc28ed",
   "metadata": {
    "scrolled": true
   },
   "outputs": [
    {
     "data": {
      "text/plain": [
       "array([' Emergency Room', ' Physician Referral', 'Unknown',\n",
       "       ' Transfer from another health care facility',\n",
       "       'Transfer from a hospital',\n",
       "       ' Transfer from a Skilled Nursing Facility (SNF)',\n",
       "       'Clinic Referral', ' Court/Law Enforcement', 'HMO Referral',\n",
       "       ' Transfer from hospital inpt/same fac reslt in a sep claim',\n",
       "       'Normal Delivery', ' Transfer from critial access hospital',\n",
       "       ' Extramural Birth'], dtype=object)"
      ]
     },
     "execution_count": 568,
     "metadata": {},
     "output_type": "execute_result"
    }
   ],
   "source": [
    "test['admission_source'].unique()"
   ]
  },
  {
   "cell_type": "code",
   "execution_count": 569,
   "id": "27154247",
   "metadata": {},
   "outputs": [],
   "source": [
    "test['admission_source'] = test['admission_source'].str.strip().str.replace(' ', '_')"
   ]
  },
  {
   "cell_type": "code",
   "execution_count": 570,
   "id": "a78330bb",
   "metadata": {},
   "outputs": [
    {
     "data": {
      "text/plain": [
       "array(['Emergency_Room', 'Physician_Referral', 'Unknown',\n",
       "       'Transfer_from_another_health_care_facility',\n",
       "       'Transfer_from_a_hospital',\n",
       "       'Transfer_from_a_Skilled_Nursing_Facility_(SNF)',\n",
       "       'Clinic_Referral', 'Court/Law_Enforcement', 'HMO_Referral',\n",
       "       'Transfer_from_hospital_inpt/same_fac_reslt_in_a_sep_claim',\n",
       "       'Normal_Delivery', 'Transfer_from_critial_access_hospital',\n",
       "       'Extramural_Birth'], dtype=object)"
      ]
     },
     "execution_count": 570,
     "metadata": {},
     "output_type": "execute_result"
    }
   ],
   "source": [
    "test['admission_source'].unique()"
   ]
  },
  {
   "cell_type": "code",
   "execution_count": 571,
   "id": "760b241a",
   "metadata": {},
   "outputs": [
    {
     "data": {
      "text/plain": [
       "admission_source\n",
       "Emergency_Room        0.562561\n",
       "Physician_Referral    0.291091\n",
       "Other_source          0.146348\n",
       "Name: proportion, dtype: float64"
      ]
     },
     "execution_count": 571,
     "metadata": {},
     "output_type": "execute_result"
    }
   ],
   "source": [
    "value_counts = test['admission_source'].value_counts(normalize=True)\n",
    "replace_admission_source = value_counts[value_counts < 0.05].index\n",
    "\n",
    "test['admission_source'] = test['admission_source'].replace(replace_admission_source, 'Other_source')\n",
    "test['admission_source'] = test['admission_source'].replace('Unknown', 'Other_source')\n",
    "test['admission_source'].value_counts(normalize=True)"
   ]
  },
  {
   "cell_type": "code",
   "execution_count": 572,
   "id": "ab7fa79e",
   "metadata": {},
   "outputs": [],
   "source": [
    "def diagosis_types_division(x):\n",
    "    try:\n",
    "        x = int(x)\n",
    "        if x <= 139 and x>=1:\n",
    "            return 'Infectious_and_parasitic_diseases'\n",
    "        elif x <= 239 and x>=140:\n",
    "            return 'Neoplasms'\n",
    "        elif x <= 279 and x>=240:\n",
    "            return 'Endocrine_nutritional_and_metabolic_diseases_and_immunity_disorders'\n",
    "        elif x <= 289 and x>=280:\n",
    "            return 'Diseases_of_the_blood_and_blood_forming_organs'\n",
    "        elif x <= 319 and x>=290:\n",
    "            return 'Mental_disorders'\n",
    "        elif x <= 389 and x>=320:\n",
    "            return 'Diseases_of_the_nervous_system_and_sense_organs'\n",
    "        elif x <= 459 and x>=390:\n",
    "            return 'Diseases_of_the_circulatory_system'\n",
    "        elif x <= 519 and x>=460:\n",
    "            return 'Diseases_of_the_respiratory_system'\n",
    "        elif x <= 579 and x>=520:\n",
    "            return 'Diseases_of_the_digestive_system'\n",
    "        elif x <= 629 and x>=580:\n",
    "            return 'Diseases_of_the_genitourinary_system'\n",
    "        elif x <= 679 and x>=630:\n",
    "            return 'Complications_of_pregnancy_childbirth_and_the_puerperium'\n",
    "        elif x <= 709 and x>=680:\n",
    "            return 'Diseases_of_the_skin_and_subcutaneous_tissue'\n",
    "        elif x <= 739 and x>=710:\n",
    "            return 'Diseases_of_the_musculoskeletal_system_and_connective_tissue'\n",
    "        elif x <= 759 and x>=740:\n",
    "            return 'Congenital_anomalies'\n",
    "        elif x <= 779 and x>=760:\n",
    "            return 'Certain_conditions_originating_in_the_perinatal_period'\n",
    "        elif x <= 799 and x>=780:\n",
    "            return 'Symptoms_signs_and_ill_defined_conditions'\n",
    "        elif x <= 999 and x>=800:\n",
    "            return 'Injury_and_poisoning'\n",
    "        else:\n",
    "            return 'External_causes_of_injury_and_supplemental_classification'\n",
    "    except ValueError:\n",
    "        return 'External_causes_of_injury_and_supplemental_classification'\n",
    "    \n",
    "    \n",
    "test['primary_diagnosis_types'] = test['primary_diagnosis'].apply(diagosis_types_division)\n",
    "test['secondary_diagnosis_types'] = test['secondary_diagnosis'].apply(diagosis_types_division)\n",
    "test['additional_diagnosis_types'] = test['additional_diagnosis'].apply(diagosis_types_division)\n",
    "test.drop(['primary_diagnosis','secondary_diagnosis','additional_diagnosis'], axis=1, inplace=True)"
   ]
  },
  {
   "cell_type": "code",
   "execution_count": 573,
   "id": "0b247817",
   "metadata": {
    "scrolled": false
   },
   "outputs": [
    {
     "data": {
      "text/plain": [
       "primary_diagnosis_types\n",
       "Diseases_of_the_circulatory_system                           0.298493\n",
       "Other_type                                                   0.266459\n",
       "Diseases_of_the_respiratory_system                           0.102064\n",
       "External_causes_of_injury_and_supplemental_classification    0.100950\n",
       "Diseases_of_the_digestive_system                             0.089486\n",
       "Symptoms_signs_and_ill_defined_conditions                    0.073993\n",
       "Injury_and_poisoning                                         0.068556\n",
       "Name: proportion, dtype: float64"
      ]
     },
     "execution_count": 573,
     "metadata": {},
     "output_type": "execute_result"
    }
   ],
   "source": [
    "value_counts = test['primary_diagnosis_types'].value_counts(normalize=True)\n",
    "replace_primary_diagnosis = value_counts[value_counts < 0.05].index\n",
    "\n",
    "test['primary_diagnosis_types'] = test['primary_diagnosis_types'].replace(replace_primary_diagnosis, 'Other_type')\n",
    "test['primary_diagnosis_types'].value_counts(normalize=True)"
   ]
  },
  {
   "cell_type": "code",
   "execution_count": 574,
   "id": "746699ce",
   "metadata": {},
   "outputs": [
    {
     "data": {
      "text/plain": [
       "secondary_diagnosis_types\n",
       "Diseases_of_the_circulatory_system                                     0.306780\n",
       "Other_type                                                             0.279758\n",
       "Endocrine_nutritional_and_metabolic_diseases_and_immunity_disorders    0.140550\n",
       "Diseases_of_the_respiratory_system                                     0.100197\n",
       "External_causes_of_injury_and_supplemental_classification              0.094792\n",
       "Diseases_of_the_genitourinary_system                                   0.077923\n",
       "Name: proportion, dtype: float64"
      ]
     },
     "execution_count": 574,
     "metadata": {},
     "output_type": "execute_result"
    }
   ],
   "source": [
    "value_counts = test['secondary_diagnosis_types'].value_counts(normalize=True)\n",
    "replace_primary_diagnosis = value_counts[value_counts < 0.05].index\n",
    "\n",
    "test['secondary_diagnosis_types'] = test['secondary_diagnosis_types'].replace(replace_primary_diagnosis, 'Other_type')\n",
    "test['secondary_diagnosis_types'].value_counts(normalize=True)"
   ]
  },
  {
   "cell_type": "code",
   "execution_count": 575,
   "id": "acb202a1",
   "metadata": {},
   "outputs": [
    {
     "data": {
      "text/plain": [
       "additional_diagnosis_types\n",
       "Diseases_of_the_circulatory_system                                     0.293449\n",
       "Other_type                                                             0.252964\n",
       "Endocrine_nutritional_and_metabolic_diseases_and_immunity_disorders    0.205306\n",
       "External_causes_of_injury_and_supplemental_classification              0.120439\n",
       "Diseases_of_the_respiratory_system                                     0.066983\n",
       "Diseases_of_the_genitourinary_system                                   0.060858\n",
       "Name: proportion, dtype: float64"
      ]
     },
     "execution_count": 575,
     "metadata": {},
     "output_type": "execute_result"
    }
   ],
   "source": [
    "value_counts = test['additional_diagnosis_types'].value_counts(normalize=True)\n",
    "replace_primary_diagnosis = value_counts[value_counts < 0.05].index\n",
    "\n",
    "test['additional_diagnosis_types'] = test['additional_diagnosis_types'].replace(replace_primary_diagnosis, 'Other_type')\n",
    "test['additional_diagnosis_types'].value_counts(normalize=True)"
   ]
  },
  {
   "cell_type": "code",
   "execution_count": 576,
   "id": "bc984516",
   "metadata": {
    "scrolled": true
   },
   "outputs": [
    {
     "data": {
      "text/plain": [
       "glucose_test_result\n",
       "None    0.945693\n",
       "Norm    0.025909\n",
       ">300    0.014314\n",
       ">200    0.014085\n",
       "Name: proportion, dtype: float64"
      ]
     },
     "execution_count": 576,
     "metadata": {},
     "output_type": "execute_result"
    }
   ],
   "source": [
    "test['glucose_test_result'].value_counts(normalize=True)"
   ]
  },
  {
   "cell_type": "code",
   "execution_count": 577,
   "id": "2cd4ab0d",
   "metadata": {
    "scrolled": true
   },
   "outputs": [
    {
     "data": {
      "text/plain": [
       "a1c_test_result\n",
       "None    0.832886\n",
       ">8      0.082247\n",
       "Norm    0.048706\n",
       ">7      0.036161\n",
       "Name: proportion, dtype: float64"
      ]
     },
     "execution_count": 577,
     "metadata": {},
     "output_type": "execute_result"
    }
   ],
   "source": [
    "test['a1c_test_result'].value_counts(normalize=True)"
   ]
  },
  {
   "cell_type": "code",
   "execution_count": 578,
   "id": "2aa5dea9",
   "metadata": {},
   "outputs": [
    {
     "data": {
      "text/plain": [
       "Index(['patient_id', 'race', 'payer_code', 'outpatient_visits',\n",
       "       'emergency_visits', 'inpatient_visits', 'admission_type',\n",
       "       'medical_specialty', 'average_pulse_bpm', 'discharge_disposition',\n",
       "       'admission_source', 'length_of_stay', 'number_lab_tests',\n",
       "       'non_lab_procedures', 'number_of_medications', 'number_diagnoses',\n",
       "       'glucose_test_result', 'a1c_test_result', 'medication',\n",
       "       'number_prescriptions', 'Midpoint_Age', 'gender_binary',\n",
       "       'diabetes_meds_binary', 'change_in_meds_binary',\n",
       "       'primary_diagnosis_types', 'secondary_diagnosis_types',\n",
       "       'additional_diagnosis_types'],\n",
       "      dtype='object')"
      ]
     },
     "execution_count": 578,
     "metadata": {},
     "output_type": "execute_result"
    }
   ],
   "source": [
    "test.columns"
   ]
  },
  {
   "cell_type": "code",
   "execution_count": 579,
   "id": "52035fe4",
   "metadata": {},
   "outputs": [
    {
     "data": {
      "text/plain": [
       "numpy.float64"
      ]
     },
     "execution_count": 579,
     "metadata": {},
     "output_type": "execute_result"
    }
   ],
   "source": [
    "type(test['Midpoint_Age'].iloc[0])"
   ]
  },
  {
   "cell_type": "code",
   "execution_count": 580,
   "id": "be94dcc6",
   "metadata": {},
   "outputs": [],
   "source": [
    "def label_pulse(row):\n",
    "    if row['Midpoint_Age']==5.0:\n",
    "        if row['average_pulse_bpm'] >= 70 and row['average_pulse_bpm'] <= 130:\n",
    "            return 1\n",
    "        else:\n",
    "            return 0\n",
    "    elif row['Midpoint_Age']<= 45.0 and row['Midpoint_Age'] >= 25.0:\n",
    "        if row['average_pulse_bpm'] >= 60 and row['average_pulse_bpm'] <= 110:\n",
    "            return 1\n",
    "        else:\n",
    "            return 0\n",
    "    elif row['Midpoint_Age']==55.0:\n",
    "        if row['average_pulse_bpm'] >= 60 and row['average_pulse_bpm'] <= 100:\n",
    "            return 1\n",
    "        else:\n",
    "            return 0\n",
    "    elif row['Midpoint_Age']>=65.0:\n",
    "        if row['average_pulse_bpm'] >= 60 and row['average_pulse_bpm'] <= 95:\n",
    "            return 1\n",
    "        else:\n",
    "            return 0\n",
    "    else:\n",
    "        if row['average_pulse_bpm'] >= 60 and row['average_pulse_bpm'] <= 100:\n",
    "            return 1\n",
    "        else:\n",
    "            return 0\n",
    "\n",
    "test['is_normal_pulse'] = test.apply(lambda row: label_pulse(row), axis=1)"
   ]
  },
  {
   "cell_type": "code",
   "execution_count": 581,
   "id": "bb2e44f7",
   "metadata": {
    "scrolled": false
   },
   "outputs": [
    {
     "data": {
      "text/plain": [
       "is_normal_pulse\n",
       "0    0.511464\n",
       "1    0.488536\n",
       "Name: proportion, dtype: float64"
      ]
     },
     "execution_count": 581,
     "metadata": {},
     "output_type": "execute_result"
    }
   ],
   "source": [
    "test['is_normal_pulse'].value_counts(normalize=True)"
   ]
  },
  {
   "cell_type": "code",
   "execution_count": 582,
   "id": "46320aa3",
   "metadata": {
    "scrolled": true
   },
   "outputs": [
    {
     "data": {
      "text/plain": [
       "diabetes_meds_binary\n",
       "1    23473\n",
       "0     7057\n",
       "Name: count, dtype: int64"
      ]
     },
     "execution_count": 582,
     "metadata": {},
     "output_type": "execute_result"
    }
   ],
   "source": [
    "test['diabetes_meds_binary'].value_counts()"
   ]
  },
  {
   "cell_type": "code",
   "execution_count": 583,
   "id": "51c7b337",
   "metadata": {
    "scrolled": true
   },
   "outputs": [
    {
     "data": {
      "text/plain": [
       "change_in_meds_binary\n",
       "0    16429\n",
       "1    14101\n",
       "Name: count, dtype: int64"
      ]
     },
     "execution_count": 583,
     "metadata": {},
     "output_type": "execute_result"
    }
   ],
   "source": [
    "test['change_in_meds_binary'].value_counts()"
   ]
  },
  {
   "cell_type": "code",
   "execution_count": 584,
   "id": "142491b4",
   "metadata": {
    "scrolled": true
   },
   "outputs": [
    {
     "data": {
      "text/plain": [
       "non_lab_procedures\n",
       "0    0.459220\n",
       "1    0.203374\n",
       "2    0.125156\n",
       "3    0.092663\n",
       "6    0.048346\n",
       "4    0.041009\n",
       "5    0.030233\n",
       "Name: proportion, dtype: float64"
      ]
     },
     "execution_count": 584,
     "metadata": {},
     "output_type": "execute_result"
    }
   ],
   "source": [
    "test['non_lab_procedures'].value_counts(normalize=True)"
   ]
  },
  {
   "cell_type": "code",
   "execution_count": 591,
   "id": "40b703dd",
   "metadata": {},
   "outputs": [],
   "source": [
    "test.drop(['patient_id'], axis=1, inplace=True)"
   ]
  },
  {
   "cell_type": "markdown",
   "id": "e028f28e",
   "metadata": {},
   "source": [
    "## Encoding categrical variables"
   ]
  },
  {
   "cell_type": "code",
   "execution_count": 592,
   "id": "a30b5040",
   "metadata": {},
   "outputs": [],
   "source": [
    "enc1 = OrdinalEncoder() "
   ]
  },
  {
   "cell_type": "code",
   "execution_count": 593,
   "id": "1d834385",
   "metadata": {},
   "outputs": [],
   "source": [
    "columns_to_encode = ['race', 'payer_code', 'admission_type', 'medical_specialty','discharge_disposition', 'admission_source',\n",
    "                    'primary_diagnosis_types', 'secondary_diagnosis_types', 'additional_diagnosis_types', 'glucose_test_result', \n",
    "                     'a1c_test_result']\n",
    "\n",
    "other_columns_test = pd.DataFrame(test.drop(columns_to_encode, axis=1))"
   ]
  },
  {
   "cell_type": "code",
   "execution_count": 594,
   "id": "a0612acf",
   "metadata": {
    "scrolled": false
   },
   "outputs": [
    {
     "data": {
      "text/html": [
       "<div>\n",
       "<style scoped>\n",
       "    .dataframe tbody tr th:only-of-type {\n",
       "        vertical-align: middle;\n",
       "    }\n",
       "\n",
       "    .dataframe tbody tr th {\n",
       "        vertical-align: top;\n",
       "    }\n",
       "\n",
       "    .dataframe thead th {\n",
       "        text-align: right;\n",
       "    }\n",
       "</style>\n",
       "<table border=\"1\" class=\"dataframe\">\n",
       "  <thead>\n",
       "    <tr style=\"text-align: right;\">\n",
       "      <th></th>\n",
       "      <th>race_AfricanAmerican</th>\n",
       "      <th>race_Caucasian</th>\n",
       "      <th>race_Other</th>\n",
       "      <th>payer_code_HM</th>\n",
       "      <th>payer_code_MC</th>\n",
       "      <th>payer_code_None</th>\n",
       "      <th>payer_code_Other_code</th>\n",
       "      <th>admission_type_Elective</th>\n",
       "      <th>admission_type_Emergency</th>\n",
       "      <th>admission_type_Other_type</th>\n",
       "      <th>...</th>\n",
       "      <th>non_lab_procedures</th>\n",
       "      <th>number_of_medications</th>\n",
       "      <th>number_diagnoses</th>\n",
       "      <th>medication</th>\n",
       "      <th>number_prescriptions</th>\n",
       "      <th>Midpoint_Age</th>\n",
       "      <th>gender_binary</th>\n",
       "      <th>diabetes_meds_binary</th>\n",
       "      <th>change_in_meds_binary</th>\n",
       "      <th>is_normal_pulse</th>\n",
       "    </tr>\n",
       "    <tr>\n",
       "      <th>encounter_id</th>\n",
       "      <th></th>\n",
       "      <th></th>\n",
       "      <th></th>\n",
       "      <th></th>\n",
       "      <th></th>\n",
       "      <th></th>\n",
       "      <th></th>\n",
       "      <th></th>\n",
       "      <th></th>\n",
       "      <th></th>\n",
       "      <th></th>\n",
       "      <th></th>\n",
       "      <th></th>\n",
       "      <th></th>\n",
       "      <th></th>\n",
       "      <th></th>\n",
       "      <th></th>\n",
       "      <th></th>\n",
       "      <th></th>\n",
       "      <th></th>\n",
       "      <th></th>\n",
       "    </tr>\n",
       "  </thead>\n",
       "  <tbody>\n",
       "    <tr>\n",
       "      <th>499502</th>\n",
       "      <td>0</td>\n",
       "      <td>1</td>\n",
       "      <td>0</td>\n",
       "      <td>1</td>\n",
       "      <td>0</td>\n",
       "      <td>0</td>\n",
       "      <td>0</td>\n",
       "      <td>0</td>\n",
       "      <td>1</td>\n",
       "      <td>0</td>\n",
       "      <td>...</td>\n",
       "      <td>0</td>\n",
       "      <td>14</td>\n",
       "      <td>6</td>\n",
       "      <td>1</td>\n",
       "      <td>1</td>\n",
       "      <td>85.0</td>\n",
       "      <td>1</td>\n",
       "      <td>1</td>\n",
       "      <td>0</td>\n",
       "      <td>0</td>\n",
       "    </tr>\n",
       "    <tr>\n",
       "      <th>447319</th>\n",
       "      <td>0</td>\n",
       "      <td>1</td>\n",
       "      <td>0</td>\n",
       "      <td>1</td>\n",
       "      <td>0</td>\n",
       "      <td>0</td>\n",
       "      <td>0</td>\n",
       "      <td>0</td>\n",
       "      <td>1</td>\n",
       "      <td>0</td>\n",
       "      <td>...</td>\n",
       "      <td>1</td>\n",
       "      <td>7</td>\n",
       "      <td>7</td>\n",
       "      <td>0</td>\n",
       "      <td>0</td>\n",
       "      <td>25.0</td>\n",
       "      <td>1</td>\n",
       "      <td>0</td>\n",
       "      <td>0</td>\n",
       "      <td>1</td>\n",
       "    </tr>\n",
       "    <tr>\n",
       "      <th>309126</th>\n",
       "      <td>1</td>\n",
       "      <td>0</td>\n",
       "      <td>0</td>\n",
       "      <td>0</td>\n",
       "      <td>0</td>\n",
       "      <td>1</td>\n",
       "      <td>0</td>\n",
       "      <td>0</td>\n",
       "      <td>1</td>\n",
       "      <td>0</td>\n",
       "      <td>...</td>\n",
       "      <td>3</td>\n",
       "      <td>12</td>\n",
       "      <td>6</td>\n",
       "      <td>1</td>\n",
       "      <td>1</td>\n",
       "      <td>35.0</td>\n",
       "      <td>1</td>\n",
       "      <td>1</td>\n",
       "      <td>0</td>\n",
       "      <td>1</td>\n",
       "    </tr>\n",
       "    <tr>\n",
       "      <th>181183</th>\n",
       "      <td>0</td>\n",
       "      <td>1</td>\n",
       "      <td>0</td>\n",
       "      <td>0</td>\n",
       "      <td>0</td>\n",
       "      <td>0</td>\n",
       "      <td>1</td>\n",
       "      <td>0</td>\n",
       "      <td>0</td>\n",
       "      <td>1</td>\n",
       "      <td>...</td>\n",
       "      <td>1</td>\n",
       "      <td>16</td>\n",
       "      <td>9</td>\n",
       "      <td>1</td>\n",
       "      <td>3</td>\n",
       "      <td>55.0</td>\n",
       "      <td>1</td>\n",
       "      <td>1</td>\n",
       "      <td>1</td>\n",
       "      <td>0</td>\n",
       "    </tr>\n",
       "    <tr>\n",
       "      <th>359339</th>\n",
       "      <td>0</td>\n",
       "      <td>1</td>\n",
       "      <td>0</td>\n",
       "      <td>0</td>\n",
       "      <td>0</td>\n",
       "      <td>1</td>\n",
       "      <td>0</td>\n",
       "      <td>0</td>\n",
       "      <td>1</td>\n",
       "      <td>0</td>\n",
       "      <td>...</td>\n",
       "      <td>0</td>\n",
       "      <td>10</td>\n",
       "      <td>9</td>\n",
       "      <td>1</td>\n",
       "      <td>1</td>\n",
       "      <td>65.0</td>\n",
       "      <td>1</td>\n",
       "      <td>1</td>\n",
       "      <td>0</td>\n",
       "      <td>0</td>\n",
       "    </tr>\n",
       "  </tbody>\n",
       "</table>\n",
       "<p>5 rows × 69 columns</p>\n",
       "</div>"
      ],
      "text/plain": [
       "              race_AfricanAmerican  race_Caucasian  race_Other  payer_code_HM  \\\n",
       "encounter_id                                                                    \n",
       "499502                           0               1           0              1   \n",
       "447319                           0               1           0              1   \n",
       "309126                           1               0           0              0   \n",
       "181183                           0               1           0              0   \n",
       "359339                           0               1           0              0   \n",
       "\n",
       "              payer_code_MC  payer_code_None  payer_code_Other_code  \\\n",
       "encounter_id                                                          \n",
       "499502                    0                0                      0   \n",
       "447319                    0                0                      0   \n",
       "309126                    0                1                      0   \n",
       "181183                    0                0                      1   \n",
       "359339                    0                1                      0   \n",
       "\n",
       "              admission_type_Elective  admission_type_Emergency  \\\n",
       "encounter_id                                                      \n",
       "499502                              0                         1   \n",
       "447319                              0                         1   \n",
       "309126                              0                         1   \n",
       "181183                              0                         0   \n",
       "359339                              0                         1   \n",
       "\n",
       "              admission_type_Other_type  ...  non_lab_procedures  \\\n",
       "encounter_id                             ...                       \n",
       "499502                                0  ...                   0   \n",
       "447319                                0  ...                   1   \n",
       "309126                                0  ...                   3   \n",
       "181183                                1  ...                   1   \n",
       "359339                                0  ...                   0   \n",
       "\n",
       "              number_of_medications  number_diagnoses  medication  \\\n",
       "encounter_id                                                        \n",
       "499502                           14                 6           1   \n",
       "447319                            7                 7           0   \n",
       "309126                           12                 6           1   \n",
       "181183                           16                 9           1   \n",
       "359339                           10                 9           1   \n",
       "\n",
       "              number_prescriptions  Midpoint_Age  gender_binary  \\\n",
       "encounter_id                                                      \n",
       "499502                           1          85.0              1   \n",
       "447319                           0          25.0              1   \n",
       "309126                           1          35.0              1   \n",
       "181183                           3          55.0              1   \n",
       "359339                           1          65.0              1   \n",
       "\n",
       "              diabetes_meds_binary  change_in_meds_binary  is_normal_pulse  \n",
       "encounter_id                                                                \n",
       "499502                           1                      0                0  \n",
       "447319                           0                      0                1  \n",
       "309126                           1                      0                1  \n",
       "181183                           1                      1                0  \n",
       "359339                           1                      0                0  \n",
       "\n",
       "[5 rows x 69 columns]"
      ]
     },
     "execution_count": 594,
     "metadata": {},
     "output_type": "execute_result"
    }
   ],
   "source": [
    "# Perform one-hot encoding on the specified columns\n",
    "test_encoded = pd.get_dummies(test[columns_to_encode])\n",
    "test_encoded = test_encoded.astype(int)\n",
    "\n",
    "test_encoded = pd.concat([test_encoded, other_columns_test], axis=1)\n",
    "test_encoded.head()"
   ]
  },
  {
   "cell_type": "markdown",
   "id": "28b75198",
   "metadata": {},
   "source": [
    "## Imputing age"
   ]
  },
  {
   "cell_type": "code",
   "execution_count": 595,
   "id": "25c98bdf",
   "metadata": {},
   "outputs": [],
   "source": [
    "known_age = test_encoded[test_encoded['Midpoint_Age'].notnull()]\n",
    "unknown_age = test_encoded[test_encoded['Midpoint_Age'].isnull()]\n",
    "\n",
    "# Reset indices\n",
    "known_age = known_age.reset_index(drop=True)\n",
    "unknown_age = unknown_age.reset_index(drop=True)\n",
    "\n",
    "# Create the training data for the model\n",
    "X = known_age.drop(['Midpoint_Age'], axis=1)\n",
    "y = known_age['Midpoint_Age']\n",
    "\n",
    "# Fit the model\n",
    "regr = RandomForestRegressor(random_state=0, n_estimators=200, n_jobs=-1)\n",
    "regr.fit(X, y)\n",
    "\n",
    "# Predict the missing ages\n",
    "predicted_ages = regr.predict(unknown_age.drop(['Midpoint_Age'], axis=1))\n",
    "\n",
    "# Fill in the missing values using the original indices\n",
    "test_encoded.loc[test_encoded['Midpoint_Age'].isnull(), 'Midpoint_Age'] = predicted_ages"
   ]
  },
  {
   "cell_type": "code",
   "execution_count": 596,
   "id": "9c8e9a10",
   "metadata": {
    "scrolled": true
   },
   "outputs": [
    {
     "data": {
      "text/plain": [
       "race_AfricanAmerican     0\n",
       "race_Caucasian           0\n",
       "race_Other               0\n",
       "payer_code_HM            0\n",
       "payer_code_MC            0\n",
       "                        ..\n",
       "Midpoint_Age             0\n",
       "gender_binary            0\n",
       "diabetes_meds_binary     0\n",
       "change_in_meds_binary    0\n",
       "is_normal_pulse          0\n",
       "Length: 69, dtype: int64"
      ]
     },
     "execution_count": 596,
     "metadata": {},
     "output_type": "execute_result"
    }
   ],
   "source": [
    "test_encoded.isna().sum()"
   ]
  },
  {
   "cell_type": "code",
   "execution_count": 597,
   "id": "45a00c69",
   "metadata": {
    "scrolled": false
   },
   "outputs": [
    {
     "data": {
      "text/html": [
       "<div>\n",
       "<style scoped>\n",
       "    .dataframe tbody tr th:only-of-type {\n",
       "        vertical-align: middle;\n",
       "    }\n",
       "\n",
       "    .dataframe tbody tr th {\n",
       "        vertical-align: top;\n",
       "    }\n",
       "\n",
       "    .dataframe thead th {\n",
       "        text-align: right;\n",
       "    }\n",
       "</style>\n",
       "<table border=\"1\" class=\"dataframe\">\n",
       "  <thead>\n",
       "    <tr style=\"text-align: right;\">\n",
       "      <th></th>\n",
       "      <th>race_AfricanAmerican</th>\n",
       "      <th>race_Caucasian</th>\n",
       "      <th>race_Other</th>\n",
       "      <th>payer_code_HM</th>\n",
       "      <th>payer_code_MC</th>\n",
       "      <th>payer_code_None</th>\n",
       "      <th>payer_code_Other_code</th>\n",
       "      <th>admission_type_Elective</th>\n",
       "      <th>admission_type_Emergency</th>\n",
       "      <th>admission_type_Other_type</th>\n",
       "      <th>...</th>\n",
       "      <th>non_lab_procedures</th>\n",
       "      <th>number_of_medications</th>\n",
       "      <th>number_diagnoses</th>\n",
       "      <th>medication</th>\n",
       "      <th>number_prescriptions</th>\n",
       "      <th>Midpoint_Age</th>\n",
       "      <th>gender_binary</th>\n",
       "      <th>diabetes_meds_binary</th>\n",
       "      <th>change_in_meds_binary</th>\n",
       "      <th>is_normal_pulse</th>\n",
       "    </tr>\n",
       "    <tr>\n",
       "      <th>encounter_id</th>\n",
       "      <th></th>\n",
       "      <th></th>\n",
       "      <th></th>\n",
       "      <th></th>\n",
       "      <th></th>\n",
       "      <th></th>\n",
       "      <th></th>\n",
       "      <th></th>\n",
       "      <th></th>\n",
       "      <th></th>\n",
       "      <th></th>\n",
       "      <th></th>\n",
       "      <th></th>\n",
       "      <th></th>\n",
       "      <th></th>\n",
       "      <th></th>\n",
       "      <th></th>\n",
       "      <th></th>\n",
       "      <th></th>\n",
       "      <th></th>\n",
       "      <th></th>\n",
       "    </tr>\n",
       "  </thead>\n",
       "  <tbody>\n",
       "    <tr>\n",
       "      <th>499502</th>\n",
       "      <td>0</td>\n",
       "      <td>1</td>\n",
       "      <td>0</td>\n",
       "      <td>1</td>\n",
       "      <td>0</td>\n",
       "      <td>0</td>\n",
       "      <td>0</td>\n",
       "      <td>0</td>\n",
       "      <td>1</td>\n",
       "      <td>0</td>\n",
       "      <td>...</td>\n",
       "      <td>0</td>\n",
       "      <td>14</td>\n",
       "      <td>6</td>\n",
       "      <td>1</td>\n",
       "      <td>1</td>\n",
       "      <td>85.0</td>\n",
       "      <td>1</td>\n",
       "      <td>1</td>\n",
       "      <td>0</td>\n",
       "      <td>0</td>\n",
       "    </tr>\n",
       "    <tr>\n",
       "      <th>447319</th>\n",
       "      <td>0</td>\n",
       "      <td>1</td>\n",
       "      <td>0</td>\n",
       "      <td>1</td>\n",
       "      <td>0</td>\n",
       "      <td>0</td>\n",
       "      <td>0</td>\n",
       "      <td>0</td>\n",
       "      <td>1</td>\n",
       "      <td>0</td>\n",
       "      <td>...</td>\n",
       "      <td>1</td>\n",
       "      <td>7</td>\n",
       "      <td>7</td>\n",
       "      <td>0</td>\n",
       "      <td>0</td>\n",
       "      <td>25.0</td>\n",
       "      <td>1</td>\n",
       "      <td>0</td>\n",
       "      <td>0</td>\n",
       "      <td>1</td>\n",
       "    </tr>\n",
       "    <tr>\n",
       "      <th>309126</th>\n",
       "      <td>1</td>\n",
       "      <td>0</td>\n",
       "      <td>0</td>\n",
       "      <td>0</td>\n",
       "      <td>0</td>\n",
       "      <td>1</td>\n",
       "      <td>0</td>\n",
       "      <td>0</td>\n",
       "      <td>1</td>\n",
       "      <td>0</td>\n",
       "      <td>...</td>\n",
       "      <td>3</td>\n",
       "      <td>12</td>\n",
       "      <td>6</td>\n",
       "      <td>1</td>\n",
       "      <td>1</td>\n",
       "      <td>35.0</td>\n",
       "      <td>1</td>\n",
       "      <td>1</td>\n",
       "      <td>0</td>\n",
       "      <td>1</td>\n",
       "    </tr>\n",
       "    <tr>\n",
       "      <th>181183</th>\n",
       "      <td>0</td>\n",
       "      <td>1</td>\n",
       "      <td>0</td>\n",
       "      <td>0</td>\n",
       "      <td>0</td>\n",
       "      <td>0</td>\n",
       "      <td>1</td>\n",
       "      <td>0</td>\n",
       "      <td>0</td>\n",
       "      <td>1</td>\n",
       "      <td>...</td>\n",
       "      <td>1</td>\n",
       "      <td>16</td>\n",
       "      <td>9</td>\n",
       "      <td>1</td>\n",
       "      <td>3</td>\n",
       "      <td>55.0</td>\n",
       "      <td>1</td>\n",
       "      <td>1</td>\n",
       "      <td>1</td>\n",
       "      <td>0</td>\n",
       "    </tr>\n",
       "    <tr>\n",
       "      <th>359339</th>\n",
       "      <td>0</td>\n",
       "      <td>1</td>\n",
       "      <td>0</td>\n",
       "      <td>0</td>\n",
       "      <td>0</td>\n",
       "      <td>1</td>\n",
       "      <td>0</td>\n",
       "      <td>0</td>\n",
       "      <td>1</td>\n",
       "      <td>0</td>\n",
       "      <td>...</td>\n",
       "      <td>0</td>\n",
       "      <td>10</td>\n",
       "      <td>9</td>\n",
       "      <td>1</td>\n",
       "      <td>1</td>\n",
       "      <td>65.0</td>\n",
       "      <td>1</td>\n",
       "      <td>1</td>\n",
       "      <td>0</td>\n",
       "      <td>0</td>\n",
       "    </tr>\n",
       "  </tbody>\n",
       "</table>\n",
       "<p>5 rows × 69 columns</p>\n",
       "</div>"
      ],
      "text/plain": [
       "              race_AfricanAmerican  race_Caucasian  race_Other  payer_code_HM  \\\n",
       "encounter_id                                                                    \n",
       "499502                           0               1           0              1   \n",
       "447319                           0               1           0              1   \n",
       "309126                           1               0           0              0   \n",
       "181183                           0               1           0              0   \n",
       "359339                           0               1           0              0   \n",
       "\n",
       "              payer_code_MC  payer_code_None  payer_code_Other_code  \\\n",
       "encounter_id                                                          \n",
       "499502                    0                0                      0   \n",
       "447319                    0                0                      0   \n",
       "309126                    0                1                      0   \n",
       "181183                    0                0                      1   \n",
       "359339                    0                1                      0   \n",
       "\n",
       "              admission_type_Elective  admission_type_Emergency  \\\n",
       "encounter_id                                                      \n",
       "499502                              0                         1   \n",
       "447319                              0                         1   \n",
       "309126                              0                         1   \n",
       "181183                              0                         0   \n",
       "359339                              0                         1   \n",
       "\n",
       "              admission_type_Other_type  ...  non_lab_procedures  \\\n",
       "encounter_id                             ...                       \n",
       "499502                                0  ...                   0   \n",
       "447319                                0  ...                   1   \n",
       "309126                                0  ...                   3   \n",
       "181183                                1  ...                   1   \n",
       "359339                                0  ...                   0   \n",
       "\n",
       "              number_of_medications  number_diagnoses  medication  \\\n",
       "encounter_id                                                        \n",
       "499502                           14                 6           1   \n",
       "447319                            7                 7           0   \n",
       "309126                           12                 6           1   \n",
       "181183                           16                 9           1   \n",
       "359339                           10                 9           1   \n",
       "\n",
       "              number_prescriptions  Midpoint_Age  gender_binary  \\\n",
       "encounter_id                                                      \n",
       "499502                           1          85.0              1   \n",
       "447319                           0          25.0              1   \n",
       "309126                           1          35.0              1   \n",
       "181183                           3          55.0              1   \n",
       "359339                           1          65.0              1   \n",
       "\n",
       "              diabetes_meds_binary  change_in_meds_binary  is_normal_pulse  \n",
       "encounter_id                                                                \n",
       "499502                           1                      0                0  \n",
       "447319                           0                      0                1  \n",
       "309126                           1                      0                1  \n",
       "181183                           1                      1                0  \n",
       "359339                           1                      0                0  \n",
       "\n",
       "[5 rows x 69 columns]"
      ]
     },
     "execution_count": 597,
     "metadata": {},
     "output_type": "execute_result"
    }
   ],
   "source": [
    "test_encoded.head()"
   ]
  }
 ],
 "metadata": {
  "kernelspec": {
   "display_name": "Python 3 (ipykernel)",
   "language": "python",
   "name": "python3"
  },
  "language_info": {
   "codemirror_mode": {
    "name": "ipython",
    "version": 3
   },
   "file_extension": ".py",
   "mimetype": "text/x-python",
   "name": "python",
   "nbconvert_exporter": "python",
   "pygments_lexer": "ipython3",
   "version": "3.11.4"
  }
 },
 "nbformat": 4,
 "nbformat_minor": 5
}

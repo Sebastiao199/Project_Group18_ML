{
 "cells": [
  {
   "cell_type": "code",
   "execution_count": 1,
   "id": "6a23aff5",
   "metadata": {},
   "outputs": [],
   "source": [
    "import numpy as np\n",
    "import pandas as pd\n",
    "import missingno as msno\n",
    "import matplotlib.pyplot as plt\n",
    "import seaborn as sns\n",
    "from sklearn.model_selection import train_test_split\n",
    "import scipy.stats as stats\n",
    "from scipy.stats import chi2_contingency\n",
    "#wrapper methods\n",
    "from sklearn.feature_selection import RFE\n",
    "from sklearn.feature_selection import RFECV\n",
    "from imblearn.over_sampling import SMOTE\n",
    "from imblearn.pipeline import Pipeline as ImbPipeline\n",
    "\n",
    "\n",
    "from sklearn.model_selection import StratifiedKFold\n",
    "from sklearn.metrics import make_scorer\n",
    "from sklearn.metrics import f1_score\n",
    "\n",
    "\n",
    "from sklearn.pipeline import Pipeline\n",
    "from sklearn.model_selection import GridSearchCV\n",
    "from sklearn.model_selection import RandomizedSearchCV\n",
    "\n",
    "#scaler methods\n",
    "from sklearn.preprocessing import RobustScaler\n",
    "from sklearn.preprocessing import StandardScaler\n",
    "from sklearn.preprocessing import MinMaxScaler\n",
    "\n",
    "# embedded methods\n",
    "from sklearn.linear_model import LassoCV\n",
    "\n",
    "from sklearn.preprocessing import LabelEncoder\n",
    "from sklearn.preprocessing import OrdinalEncoder\n",
    "\n",
    "import warnings\n",
    "warnings.filterwarnings('ignore')\n",
    "\n",
    "from sklearn.linear_model import LogisticRegression\n",
    "from sklearn.svm import SVC\n",
    "from sklearn.neighbors import KNeighborsClassifier\n",
    "from sklearn.tree import DecisionTreeClassifier\n",
    "from sklearn.neural_network import MLPClassifier\n",
    "from sklearn.naive_bayes import GaussianNB\n",
    "from sklearn.ensemble import RandomForestClassifier\n",
    "from sklearn.ensemble import RandomForestRegressor\n",
    "from sklearn.ensemble import GradientBoostingClassifier"
   ]
  },
  {
   "cell_type": "markdown",
   "id": "3c33ff9e",
   "metadata": {},
   "source": [
    "# Importing the Csv's for modeling"
   ]
  },
  {
   "cell_type": "code",
   "execution_count": 2,
   "id": "95af1129",
   "metadata": {},
   "outputs": [],
   "source": [
    "X_train_binary_1 = pd.read_csv('https://raw.githubusercontent.com/Sebastiao199/Project_Group18_ML/main/Csv_after_cleaning/X_train_binary_1.csv', index_col='encounter_id')\n",
    "X_val_binary_1 = pd.read_csv('https://raw.githubusercontent.com/Sebastiao199/Project_Group18_ML/main/Csv_after_cleaning/X_val_binary_1.csv', index_col='encounter_id')\n",
    "y_train_binary_1 = pd.read_csv('https://raw.githubusercontent.com/Sebastiao199/Project_Group18_ML/main/Csv_after_cleaning/y_train_binary_1.csv', index_col='encounter_id')\n",
    "y_val_binary_1 = pd.read_csv('https://raw.githubusercontent.com/Sebastiao199/Project_Group18_ML/main/Csv_after_cleaning/y_val_binary_1.csv', index_col='encounter_id')"
   ]
  },
  {
   "cell_type": "code",
   "execution_count": 3,
   "id": "ae073169",
   "metadata": {},
   "outputs": [],
   "source": [
    "X_train_binary_1.columns = X_train_binary_1.columns.str.replace('[ ,]', '_', regex=True)\n",
    "X_val_binary_1.columns = X_val_binary_1.columns.str.replace('[ ,]', '_', regex=True)"
   ]
  },
  {
   "cell_type": "code",
   "execution_count": 4,
   "id": "6b122c2e",
   "metadata": {},
   "outputs": [
    {
     "data": {
      "text/plain": [
       "Index(['race_AfricanAmerican', 'race_Caucasian', 'race_Other', 'payer_code_HM',\n",
       "       'payer_code_MC', 'payer_code_None', 'payer_code_Other_code',\n",
       "       'admission_type_Elective', 'admission_type_Emergency',\n",
       "       'admission_type_Other_type', 'admission_type_Urgent',\n",
       "       'medical_specialty_Cardiology', 'medical_specialty_Emergency_Trauma',\n",
       "       'medical_specialty_Family_GeneralPractice',\n",
       "       'medical_specialty_InternalMedicine',\n",
       "       'medical_specialty_Other_specialty', 'medical_specialty_Surgery',\n",
       "       'discharge_disposition_Discharged_to_home',\n",
       "       'discharge_disposition_Discharged_transferred_referred_another_this_institution_for_outpatient_services',\n",
       "       'discharge_disposition_Expired', 'discharge_disposition_Other',\n",
       "       'discharge_disposition_Transferred_to_another_medical_facility',\n",
       "       'discharge_disposition_Unknown', 'admission_source_Emergency_Room',\n",
       "       'admission_source_Other_source', 'admission_source_Physician_Referral',\n",
       "       'primary_diagnosis_types_Diseases_of_the_circulatory_system',\n",
       "       'primary_diagnosis_types_Diseases_of_the_digestive_system',\n",
       "       'primary_diagnosis_types_Diseases_of_the_respiratory_system',\n",
       "       'primary_diagnosis_types_External_causes_of_injury_and_supplemental_classification',\n",
       "       'primary_diagnosis_types_Injury_and_poisoning',\n",
       "       'primary_diagnosis_types_Other_type',\n",
       "       'primary_diagnosis_types_Symptoms_signs_and_ill_defined_conditions',\n",
       "       'secondary_diagnosis_types_Diseases_of_the_circulatory_system',\n",
       "       'secondary_diagnosis_types_Diseases_of_the_genitourinary_system',\n",
       "       'secondary_diagnosis_types_Diseases_of_the_respiratory_system',\n",
       "       'secondary_diagnosis_types_Endocrine_nutritional_and_metabolic_diseases_and_immunity_disorders',\n",
       "       'secondary_diagnosis_types_External_causes_of_injury_and_supplemental_classification',\n",
       "       'secondary_diagnosis_types_Other_type',\n",
       "       'additional_diagnosis_types_Diseases_of_the_circulatory_system',\n",
       "       'additional_diagnosis_types_Diseases_of_the_genitourinary_system',\n",
       "       'additional_diagnosis_types_Diseases_of_the_respiratory_system',\n",
       "       'additional_diagnosis_types_Endocrine_nutritional_and_metabolic_diseases_and_immunity_disorders',\n",
       "       'additional_diagnosis_types_External_causes_of_injury_and_supplemental_classification',\n",
       "       'additional_diagnosis_types_Other_type', 'glucose_test_result_>200',\n",
       "       'glucose_test_result_>300', 'glucose_test_result_None',\n",
       "       'glucose_test_result_Norm', 'a1c_test_result_>7', 'a1c_test_result_>8',\n",
       "       'a1c_test_result_None', 'a1c_test_result_Norm', 'outpatient_visits',\n",
       "       'emergency_visits', 'inpatient_visits', 'average_pulse_bpm',\n",
       "       'length_of_stay', 'number_lab_tests', 'non_lab_procedures',\n",
       "       'number_of_medications', 'number_diagnoses', 'medication',\n",
       "       'number_prescriptions', 'Midpoint_Age', 'gender_binary',\n",
       "       'diabetes_meds_binary', 'change_in_meds_binary', 'is_normal_pulse'],\n",
       "      dtype='object')"
      ]
     },
     "execution_count": 4,
     "metadata": {},
     "output_type": "execute_result"
    }
   ],
   "source": [
    "X_train_binary_1.columns"
   ]
  },
  {
   "cell_type": "markdown",
   "id": "8a9cef35",
   "metadata": {},
   "source": [
    "# Feature Selection"
   ]
  },
  {
   "cell_type": "markdown",
   "id": "b0e68e5c",
   "metadata": {},
   "source": [
    "Previous used columns:\n",
    "'discharge_disposition_Discharged to home', 'inpatient_visits', 'outpatient_visits', 'emergency_visits', 'number_diagnoses',\n",
    "'diabetes_meds_binary', 'average_pulse_bpm', 'number_of_medications', 'number_lab_tests', 'Midpoint_Age'"
   ]
  },
  {
   "cell_type": "markdown",
   "id": "032ab9f3",
   "metadata": {},
   "source": [
    "### Univariate Methods"
   ]
  },
  {
   "cell_type": "code",
   "execution_count": 5,
   "id": "5bfabc7e",
   "metadata": {},
   "outputs": [],
   "source": [
    "numeric_columns = ['outpatient_visits','emergency_visits', 'inpatient_visits', 'average_pulse_bpm', 'length_of_stay', \n",
    "                   'number_lab_tests', 'non_lab_procedures','number_of_medications', 'number_diagnoses', 'number_prescriptions',\n",
    "                   'Midpoint_Age']"
   ]
  },
  {
   "cell_type": "code",
   "execution_count": 6,
   "id": "c89aa8e3",
   "metadata": {},
   "outputs": [
    {
     "data": {
      "text/plain": [
       "outpatient_visits          1.658062\n",
       "emergency_visits           0.880346\n",
       "inpatient_visits           1.609366\n",
       "average_pulse_bpm        530.336335\n",
       "length_of_stay             8.975235\n",
       "number_lab_tests         384.826582\n",
       "non_lab_procedures         2.909965\n",
       "number_of_medications     65.495039\n",
       "number_diagnoses           3.736187\n",
       "number_prescriptions       0.845097\n",
       "Midpoint_Age             245.935704\n",
       "dtype: float64"
      ]
     },
     "execution_count": 6,
     "metadata": {},
     "output_type": "execute_result"
    }
   ],
   "source": [
    "X_train_binary_1[numeric_columns].var()"
   ]
  },
  {
   "cell_type": "markdown",
   "id": "0c1ea7cd",
   "metadata": {},
   "source": [
    "Since the is no variance equal to 0, then there is no numerical variable that is univariate. With that in mind, we don´t need to drop any column. Adding to this, we can say that there are some numerical variables with high variance like Midpoint_Age, number_lab_tests and average_pulse_bpm (we could also say number_of_medications), and some with low variance like emergency_visits and number_prescriptions."
   ]
  },
  {
   "cell_type": "markdown",
   "id": "60218c2b",
   "metadata": {},
   "source": [
    "### Correlation indices"
   ]
  },
  {
   "cell_type": "code",
   "execution_count": 7,
   "id": "a8cec36c",
   "metadata": {},
   "outputs": [],
   "source": [
    "def cor_heatmap(cor):\n",
    "    plt.figure(figsize=(12,10))\n",
    "    sns.heatmap(data = cor, annot = True, cmap = plt.cm.Reds, fmt='.1')\n",
    "    plt.show()"
   ]
  },
  {
   "cell_type": "code",
   "execution_count": 8,
   "id": "bd71cbf5",
   "metadata": {},
   "outputs": [
    {
     "data": {
      "text/html": [
       "<div>\n",
       "<style scoped>\n",
       "    .dataframe tbody tr th:only-of-type {\n",
       "        vertical-align: middle;\n",
       "    }\n",
       "\n",
       "    .dataframe tbody tr th {\n",
       "        vertical-align: top;\n",
       "    }\n",
       "\n",
       "    .dataframe thead th {\n",
       "        text-align: right;\n",
       "    }\n",
       "</style>\n",
       "<table border=\"1\" class=\"dataframe\">\n",
       "  <thead>\n",
       "    <tr style=\"text-align: right;\">\n",
       "      <th></th>\n",
       "      <th>outpatient_visits</th>\n",
       "      <th>emergency_visits</th>\n",
       "      <th>inpatient_visits</th>\n",
       "      <th>average_pulse_bpm</th>\n",
       "      <th>length_of_stay</th>\n",
       "      <th>number_lab_tests</th>\n",
       "      <th>non_lab_procedures</th>\n",
       "      <th>number_of_medications</th>\n",
       "      <th>number_diagnoses</th>\n",
       "      <th>number_prescriptions</th>\n",
       "      <th>Midpoint_Age</th>\n",
       "    </tr>\n",
       "  </thead>\n",
       "  <tbody>\n",
       "    <tr>\n",
       "      <th>outpatient_visits</th>\n",
       "      <td>1.000000</td>\n",
       "      <td>0.178239</td>\n",
       "      <td>0.154406</td>\n",
       "      <td>0.003741</td>\n",
       "      <td>-0.011900</td>\n",
       "      <td>-0.021399</td>\n",
       "      <td>-0.026964</td>\n",
       "      <td>0.071612</td>\n",
       "      <td>0.111438</td>\n",
       "      <td>0.004986</td>\n",
       "      <td>0.024640</td>\n",
       "    </tr>\n",
       "    <tr>\n",
       "      <th>emergency_visits</th>\n",
       "      <td>0.178239</td>\n",
       "      <td>1.000000</td>\n",
       "      <td>0.216654</td>\n",
       "      <td>0.000970</td>\n",
       "      <td>-0.003668</td>\n",
       "      <td>0.006584</td>\n",
       "      <td>-0.043619</td>\n",
       "      <td>0.042457</td>\n",
       "      <td>0.088748</td>\n",
       "      <td>0.015773</td>\n",
       "      <td>-0.053773</td>\n",
       "    </tr>\n",
       "    <tr>\n",
       "      <th>inpatient_visits</th>\n",
       "      <td>0.154406</td>\n",
       "      <td>0.216654</td>\n",
       "      <td>1.000000</td>\n",
       "      <td>0.003707</td>\n",
       "      <td>0.090804</td>\n",
       "      <td>0.041561</td>\n",
       "      <td>-0.067057</td>\n",
       "      <td>0.098296</td>\n",
       "      <td>0.135500</td>\n",
       "      <td>-0.016267</td>\n",
       "      <td>0.016056</td>\n",
       "    </tr>\n",
       "    <tr>\n",
       "      <th>average_pulse_bpm</th>\n",
       "      <td>0.003741</td>\n",
       "      <td>0.000970</td>\n",
       "      <td>0.003707</td>\n",
       "      <td>1.000000</td>\n",
       "      <td>0.001537</td>\n",
       "      <td>-0.001670</td>\n",
       "      <td>-0.004411</td>\n",
       "      <td>0.003625</td>\n",
       "      <td>-0.001355</td>\n",
       "      <td>0.000337</td>\n",
       "      <td>0.006627</td>\n",
       "    </tr>\n",
       "    <tr>\n",
       "      <th>length_of_stay</th>\n",
       "      <td>-0.011900</td>\n",
       "      <td>-0.003668</td>\n",
       "      <td>0.090804</td>\n",
       "      <td>0.001537</td>\n",
       "      <td>1.000000</td>\n",
       "      <td>0.333035</td>\n",
       "      <td>0.190399</td>\n",
       "      <td>0.462737</td>\n",
       "      <td>0.240230</td>\n",
       "      <td>0.086590</td>\n",
       "      <td>0.122734</td>\n",
       "    </tr>\n",
       "    <tr>\n",
       "      <th>number_lab_tests</th>\n",
       "      <td>-0.021399</td>\n",
       "      <td>0.006584</td>\n",
       "      <td>0.041561</td>\n",
       "      <td>-0.001670</td>\n",
       "      <td>0.333035</td>\n",
       "      <td>1.000000</td>\n",
       "      <td>0.018434</td>\n",
       "      <td>0.246450</td>\n",
       "      <td>0.172129</td>\n",
       "      <td>0.028189</td>\n",
       "      <td>0.028675</td>\n",
       "    </tr>\n",
       "    <tr>\n",
       "      <th>non_lab_procedures</th>\n",
       "      <td>-0.026964</td>\n",
       "      <td>-0.043619</td>\n",
       "      <td>-0.067057</td>\n",
       "      <td>-0.004411</td>\n",
       "      <td>0.190399</td>\n",
       "      <td>0.018434</td>\n",
       "      <td>1.000000</td>\n",
       "      <td>0.348313</td>\n",
       "      <td>0.069969</td>\n",
       "      <td>-0.008855</td>\n",
       "      <td>-0.063130</td>\n",
       "    </tr>\n",
       "    <tr>\n",
       "      <th>number_of_medications</th>\n",
       "      <td>0.071612</td>\n",
       "      <td>0.042457</td>\n",
       "      <td>0.098296</td>\n",
       "      <td>0.003625</td>\n",
       "      <td>0.462737</td>\n",
       "      <td>0.246450</td>\n",
       "      <td>0.348313</td>\n",
       "      <td>1.000000</td>\n",
       "      <td>0.296157</td>\n",
       "      <td>0.237336</td>\n",
       "      <td>0.028013</td>\n",
       "    </tr>\n",
       "    <tr>\n",
       "      <th>number_diagnoses</th>\n",
       "      <td>0.111438</td>\n",
       "      <td>0.088748</td>\n",
       "      <td>0.135500</td>\n",
       "      <td>-0.001355</td>\n",
       "      <td>0.240230</td>\n",
       "      <td>0.172129</td>\n",
       "      <td>0.069969</td>\n",
       "      <td>0.296157</td>\n",
       "      <td>1.000000</td>\n",
       "      <td>0.014665</td>\n",
       "      <td>0.194423</td>\n",
       "    </tr>\n",
       "    <tr>\n",
       "      <th>number_prescriptions</th>\n",
       "      <td>0.004986</td>\n",
       "      <td>0.015773</td>\n",
       "      <td>-0.016267</td>\n",
       "      <td>0.000337</td>\n",
       "      <td>0.086590</td>\n",
       "      <td>0.028189</td>\n",
       "      <td>-0.008855</td>\n",
       "      <td>0.237336</td>\n",
       "      <td>0.014665</td>\n",
       "      <td>1.000000</td>\n",
       "      <td>-0.007739</td>\n",
       "    </tr>\n",
       "    <tr>\n",
       "      <th>Midpoint_Age</th>\n",
       "      <td>0.024640</td>\n",
       "      <td>-0.053773</td>\n",
       "      <td>0.016056</td>\n",
       "      <td>0.006627</td>\n",
       "      <td>0.122734</td>\n",
       "      <td>0.028675</td>\n",
       "      <td>-0.063130</td>\n",
       "      <td>0.028013</td>\n",
       "      <td>0.194423</td>\n",
       "      <td>-0.007739</td>\n",
       "      <td>1.000000</td>\n",
       "    </tr>\n",
       "  </tbody>\n",
       "</table>\n",
       "</div>"
      ],
      "text/plain": [
       "                       outpatient_visits  emergency_visits  inpatient_visits  \\\n",
       "outpatient_visits               1.000000          0.178239          0.154406   \n",
       "emergency_visits                0.178239          1.000000          0.216654   \n",
       "inpatient_visits                0.154406          0.216654          1.000000   \n",
       "average_pulse_bpm               0.003741          0.000970          0.003707   \n",
       "length_of_stay                 -0.011900         -0.003668          0.090804   \n",
       "number_lab_tests               -0.021399          0.006584          0.041561   \n",
       "non_lab_procedures             -0.026964         -0.043619         -0.067057   \n",
       "number_of_medications           0.071612          0.042457          0.098296   \n",
       "number_diagnoses                0.111438          0.088748          0.135500   \n",
       "number_prescriptions            0.004986          0.015773         -0.016267   \n",
       "Midpoint_Age                    0.024640         -0.053773          0.016056   \n",
       "\n",
       "                       average_pulse_bpm  length_of_stay  number_lab_tests  \\\n",
       "outpatient_visits               0.003741       -0.011900         -0.021399   \n",
       "emergency_visits                0.000970       -0.003668          0.006584   \n",
       "inpatient_visits                0.003707        0.090804          0.041561   \n",
       "average_pulse_bpm               1.000000        0.001537         -0.001670   \n",
       "length_of_stay                  0.001537        1.000000          0.333035   \n",
       "number_lab_tests               -0.001670        0.333035          1.000000   \n",
       "non_lab_procedures             -0.004411        0.190399          0.018434   \n",
       "number_of_medications           0.003625        0.462737          0.246450   \n",
       "number_diagnoses               -0.001355        0.240230          0.172129   \n",
       "number_prescriptions            0.000337        0.086590          0.028189   \n",
       "Midpoint_Age                    0.006627        0.122734          0.028675   \n",
       "\n",
       "                       non_lab_procedures  number_of_medications  \\\n",
       "outpatient_visits               -0.026964               0.071612   \n",
       "emergency_visits                -0.043619               0.042457   \n",
       "inpatient_visits                -0.067057               0.098296   \n",
       "average_pulse_bpm               -0.004411               0.003625   \n",
       "length_of_stay                   0.190399               0.462737   \n",
       "number_lab_tests                 0.018434               0.246450   \n",
       "non_lab_procedures               1.000000               0.348313   \n",
       "number_of_medications            0.348313               1.000000   \n",
       "number_diagnoses                 0.069969               0.296157   \n",
       "number_prescriptions            -0.008855               0.237336   \n",
       "Midpoint_Age                    -0.063130               0.028013   \n",
       "\n",
       "                       number_diagnoses  number_prescriptions  Midpoint_Age  \n",
       "outpatient_visits              0.111438              0.004986      0.024640  \n",
       "emergency_visits               0.088748              0.015773     -0.053773  \n",
       "inpatient_visits               0.135500             -0.016267      0.016056  \n",
       "average_pulse_bpm             -0.001355              0.000337      0.006627  \n",
       "length_of_stay                 0.240230              0.086590      0.122734  \n",
       "number_lab_tests               0.172129              0.028189      0.028675  \n",
       "non_lab_procedures             0.069969             -0.008855     -0.063130  \n",
       "number_of_medications          0.296157              0.237336      0.028013  \n",
       "number_diagnoses               1.000000              0.014665      0.194423  \n",
       "number_prescriptions           0.014665              1.000000     -0.007739  \n",
       "Midpoint_Age                   0.194423             -0.007739      1.000000  "
      ]
     },
     "execution_count": 8,
     "metadata": {},
     "output_type": "execute_result"
    }
   ],
   "source": [
    "cor_spearman = X_train_binary_1[numeric_columns].corr(method ='spearman')\n",
    "cor_spearman"
   ]
  },
  {
   "cell_type": "code",
   "execution_count": 9,
   "id": "e87f7ee2",
   "metadata": {
    "scrolled": true
   },
   "outputs": [
    {
     "data": {
      "image/png": "[encoded data removed]",
      "text/plain": [
       "<Figure size 1200x1000 with 2 Axes>"
      ]
     },
     "metadata": {},
     "output_type": "display_data"
    }
   ],
   "source": [
    "cor_heatmap(cor_spearman)"
   ]
  },
  {
   "cell_type": "markdown",
   "id": "3c4ba447",
   "metadata": {},
   "source": [
    "We can conclude that:\n",
    "- We need to use other feature selection techniques to get more insights.\n",
    "- There is one pair of variables that is significantly correlated:\n",
    "    - length_of_stay vs number_of_medications (0.5) <br>"
   ]
  },
  {
   "cell_type": "markdown",
   "id": "0e84a183",
   "metadata": {},
   "source": [
    "### Chi-square"
   ]
  },
  {
   "cell_type": "markdown",
   "id": "04600555",
   "metadata": {},
   "source": [
    "- 'race_AfricanAmerican', 'race_Caucasian', 'race_Other';\n",
    "- 'payer_code_HM','payer_code_MC', 'payer_code_None', 'payer_code_Other_code';\n",
    "- 'admission_type_Elective','admission_type_Emergency','admission_type_Other_type','admission_type_Urgent','medical_specialty_Cardiology';\n",
    "- 'medical_specialty_Emergency/Trauma','medical_specialty_Family/GeneralPractice','medical_specialty_InternalMedicine','medical_specialty_Other_specialty', 'medical_specialty_Surgery';\n",
    "- 'discharge_disposition_Discharged to home','discharge_disposition_Expired', 'discharge_disposition_Other','discharge_disposition_Transferred to another medical facility','discharge_disposition_Unknown';\n",
    "- 'admission_source_ Emergency Room','admission_source_ Physician Referral', 'admission_source_Other_source';\n",
    "- 'primary_diagnosis_types_Diseases of the circulatory system','primary_diagnosis_types_Diseases of the digestive system','primary_diagnosis_types_Diseases of the respiratory system','primary_diagnosis_types_External causes of injury and supplemental classification','primary_diagnosis_types_Injury and poisoning','primary_diagnosis_types_Other_type','primary_diagnosis_types_Symptoms, signs, and ill-defined conditions';\n",
    "- 'secondary_diagnosis_types_Diseases of the circulatory system','secondary_diagnosis_types_Diseases of the genitourinary system','secondary_diagnosis_types_Diseases of the respiratory system','secondary_diagnosis_types_Endocrine, nutritional and metabolic diseases, and immunity disorders','secondary_diagnosis_types_External causes of injury and supplemental classification','secondary_diagnosis_types_Other_type';\n",
    "- 'additional_diagnosis_types_Diseases of the circulatory system','additional_diagnosis_types_Diseases of the genitourinary system','additional_diagnosis_types_Diseases of the respiratory system','additional_diagnosis_types_Endocrine, nutritional and metabolic diseases, and immunity disorders','additional_diagnosis_types_External causes of injury and supplemental classification','additional_diagnosis_types_Other_type';\n",
    "- 'glucose_test_result_>200','glucose_test_result_>300', 'glucose_test_result_None', 'glucose_test_result_Norm';\n",
    "- 'a1c_test_result_>7', 'a1c_test_result_>8','a1c_test_result_None', 'a1c_test_result_Norm';\n",
    "- 'diabetes_meds_binary', 'change_in_meds_binary','is_normal_pulse', 'medication', 'gender_binary';\n",
    "These were the columns that were considered important (the ones not here were discarted)"
   ]
  },
  {
   "cell_type": "markdown",
   "id": "0561e2ce",
   "metadata": {},
   "source": [
    "### Visualize the weight of the dependent variable in categorical data"
   ]
  },
  {
   "cell_type": "markdown",
   "id": "c1ff9583",
   "metadata": {},
   "source": [
    "Based on the visualizations we have seen on the Cleaning&PreProcessing notebook (we in the future will merge the notebooks, but I think putting every visualization here will fill too much this notebook), these are the conclusions we take:\n",
    "\n",
    "Columns that are not correlated with the target: \n",
    "\n",
    "- medication\n",
    "- admission_type (maybe Emergency a bit)\n",
    "- admission_source (maybe Emergency_room a bit)\n",
    "- is_normal_pulse\n",
    "- average_pulse_bpm\n",
    "- gender_binary\n",
    "- number_lab_tests\n",
    "- number_prescriptions\n",
    "\n",
    "Columns that have some correlation with the target: \n",
    "\n",
    "- race (other)\n",
    "- MidPointAge\n",
    "- discharge_disposition (Expired, Other, Transferred to another medical facility)\n",
    "- medical_specialty (Cardiology)\n",
    "- primary_diagnosis_types (Endocrine, nutritional and metabolic diseases, and immunity disorders, Injury and poisoning)\n",
    "- secondary_diagnosis_types (Endocrine, nutritional and metabolic diseases, and immunity disorders, External causes of injury and supplemental classification)\n",
    "- additional_diagnosis_types (Endocrine, nutritional and metabolic diseases, and immunity disorders, Diseases of the genitourinary system)\n",
    "- glucose_test_result (>300)\n",
    "- a1c_test_result (None)\n",
    "- diabetes_meds_binary\n",
    "- change_in_meds_binary\n",
    "- length_of_stay\n",
    "- non_lab_procedures\n",
    "- number_of_medications\n",
    "- number_diagnoses\n",
    "- emergency_visits\n",
    "- inpatient_visits\n",
    "\n",
    "\n",
    "Maybe yes/Maybe no: \n",
    "\n",
    "- payer_code\n",
    "- outpatient_visits\n"
   ]
  },
  {
   "cell_type": "markdown",
   "id": "cf206104",
   "metadata": {},
   "source": [
    "### Point Biserial Correlation"
   ]
  },
  {
   "cell_type": "markdown",
   "id": "9bf7a39d",
   "metadata": {},
   "source": [
    "More than 0.01 Corr: \n",
    "- length_of_stay\n",
    "- number_lab_tests \n",
    "- non_lab_procedures \n",
    "- number_of_medications \n",
    "- number_diagnoses \n",
    "- outpatient_visits \n",
    "- emergency_visits \n",
    "- inpatient_visits"
   ]
  },
  {
   "cell_type": "markdown",
   "id": "801188c6",
   "metadata": {},
   "source": [
    "## Final result (Features choosen)"
   ]
  },
  {
   "cell_type": "code",
   "execution_count": 10,
   "id": "3ef49247",
   "metadata": {},
   "outputs": [],
   "source": [
    "selected_features=['race_Other','Midpoint_Age','discharge_disposition_Expired','discharge_disposition_Other',\n",
    "                   'discharge_disposition_Transferred_to_another_medical_facility','medical_specialty_Cardiology',\n",
    "                   'primary_diagnosis_types_External_causes_of_injury_and_supplemental_classification',\n",
    "                   'primary_diagnosis_types_Injury_and_poisoning','secondary_diagnosis_types_Endocrine_nutritional_and_metabolic_diseases_and_immunity_disorders',\n",
    "                   'secondary_diagnosis_types_External_causes_of_injury_and_supplemental_classification',\n",
    "                   'additional_diagnosis_types_Endocrine_nutritional_and_metabolic_diseases_and_immunity_disorders',\n",
    "                   'additional_diagnosis_types_Diseases_of_the_genitourinary_system','glucose_test_result_>300',\n",
    "                   'a1c_test_result_None','diabetes_meds_binary','change_in_meds_binary','length_of_stay','non_lab_procedures',\n",
    "                   'number_of_medications','number_diagnoses','emergency_visits','inpatient_visits','discharge_disposition_Discharged_to_home']"
   ]
  },
  {
   "cell_type": "code",
   "execution_count": 11,
   "id": "3f8fe2ba",
   "metadata": {},
   "outputs": [
    {
     "data": {
      "text/plain": [
       "23"
      ]
     },
     "execution_count": 11,
     "metadata": {},
     "output_type": "execute_result"
    }
   ],
   "source": [
    "len(selected_features)"
   ]
  },
  {
   "cell_type": "markdown",
   "id": "d7e80e1c",
   "metadata": {},
   "source": [
    "# Normalization Methods"
   ]
  },
  {
   "cell_type": "code",
   "execution_count": 16,
   "id": "e4064d11",
   "metadata": {},
   "outputs": [],
   "source": [
    "X_train_binary_1 = X_train_binary_1[selected_features]\n",
    "X_val_binary_1 = X_val_binary_1[selected_features]"
   ]
  },
  {
   "cell_type": "code",
   "execution_count": 20,
   "id": "26a03ed7",
   "metadata": {},
   "outputs": [],
   "source": [
    "# Standard Scaler\n",
    "scaler = StandardScaler()\n",
    "X_train_scaled = scaler.fit_transform(X_train_binary_1)\n",
    "X_val_scaled = scaler.transform(X_val_binary_1)"
   ]
  },
  {
   "cell_type": "code",
   "execution_count": 21,
   "id": "48dc0a24",
   "metadata": {},
   "outputs": [],
   "source": [
    "# Min Max Scaler\n",
    "min_max_scaler = MinMaxScaler()\n",
    "X_train_minmax = min_max_scaler.fit_transform(X_train_binary_1)\n",
    "X_val_minmax = min_max_scaler.transform(X_val_binary_1)"
   ]
  },
  {
   "cell_type": "code",
   "execution_count": 22,
   "id": "c3c405ab",
   "metadata": {},
   "outputs": [],
   "source": [
    "# Min Max Scaler between -1 and 1\n",
    "min_max_scaler_neg1_1 = MinMaxScaler(feature_range=(-1, 1))\n",
    "X_train_minmax_neg1_1 = min_max_scaler_neg1_1.fit_transform(X_train_binary_1)\n",
    "X_val_minmax_neg1_1 = min_max_scaler_neg1_1.transform(X_val_binary_1)"
   ]
  },
  {
   "cell_type": "code",
   "execution_count": 23,
   "id": "253328e3",
   "metadata": {},
   "outputs": [],
   "source": [
    "# Robust Scaler\n",
    "robust_scaler = RobustScaler()\n",
    "X_train_robust = robust_scaler.fit_transform(X_train_binary_1)\n",
    "X_val_robust = robust_scaler.transform(X_val_binary_1)"
   ]
  },
  {
   "cell_type": "markdown",
   "id": "8080b9c4",
   "metadata": {},
   "source": [
    "# Imbalanced Learning"
   ]
  },
  {
   "cell_type": "markdown",
   "id": "de3de5ea",
   "metadata": {},
   "source": [
    "Cost-sensitive learning: This involves assigning a higher cost to misclassifying minority classes."
   ]
  },
  {
   "cell_type": "code",
   "execution_count": 24,
   "id": "dd40e646",
   "metadata": {},
   "outputs": [
    {
     "data": {
      "text/plain": [
       "readmitted_binary\n",
       "No                   0.88839\n",
       "Yes                  0.11161\n",
       "Name: proportion, dtype: float64"
      ]
     },
     "execution_count": 24,
     "metadata": {},
     "output_type": "execute_result"
    }
   ],
   "source": [
    "y_train_binary_1.value_counts(normalize=True)"
   ]
  },
  {
   "cell_type": "code",
   "execution_count": 25,
   "id": "59f0bb5c",
   "metadata": {
    "scrolled": true
   },
   "outputs": [
    {
     "data": {
      "text/plain": [
       "readmitted_binary\n",
       "No                   0.888427\n",
       "Yes                  0.111573\n",
       "Name: proportion, dtype: float64"
      ]
     },
     "execution_count": 25,
     "metadata": {},
     "output_type": "execute_result"
    }
   ],
   "source": [
    "y_val_binary_1.value_counts(normalize=True)"
   ]
  },
  {
   "cell_type": "markdown",
   "id": "3d23f191",
   "metadata": {},
   "source": [
    "### SMOTE"
   ]
  },
  {
   "cell_type": "markdown",
   "id": "9179b101",
   "metadata": {},
   "source": [
    "Until now the best scores where always with **Robust Scaler** (because of the outliers) so we are going to try all the models with **only Robust Scaler** (for efficiency of time). We can try another option, which would be, handling the outilers (some or all), check the scores with Standard Scaler and/or Min Max Scaler and then compare this scores with the ones we got from Robust Scaler before handling the outliers."
   ]
  },
  {
   "cell_type": "code",
   "execution_count": 26,
   "id": "390e40c8",
   "metadata": {},
   "outputs": [],
   "source": [
    "y_train_binary_1 = y_train_binary_1[y_train_binary_1.columns[0]].map({'Yes': 1, 'No': 0})\n",
    "y_val_binary_1 = y_val_binary_1[y_val_binary_1.columns[0]].map({'Yes': 1, 'No': 0})"
   ]
  },
  {
   "cell_type": "code",
   "execution_count": 27,
   "id": "2add9720",
   "metadata": {
    "scrolled": true
   },
   "outputs": [
    {
     "name": "stdout",
     "output_type": "stream",
     "text": [
      "Number transactions X_train dataset:  (53427, 23)\n",
      "Number transactions y_train dataset:  (53427,)\n",
      "Number transactions X_val dataset:  (17809, 23)\n",
      "Number transactions y_val dataset:  (17809,)\n",
      "Before OverSampling, counts of label '1': 5963\n",
      "Before OverSampling, counts of label '0': 47464 \n",
      "\n",
      "After OverSampling, the shape of train_X: (94928, 23)\n",
      "After OverSampling, the shape of train_y: (94928,) \n",
      "\n",
      "After OverSampling, counts of label '1': 47464\n",
      "After OverSampling, counts of label '0': 47464\n"
     ]
    }
   ],
   "source": [
    "print(\"Number transactions X_train dataset: \", X_train_binary_1.shape)\n",
    "print(\"Number transactions y_train dataset: \", y_train_binary_1.shape)\n",
    "print(\"Number transactions X_val dataset: \", X_val_binary_1.shape)\n",
    "print(\"Number transactions y_val dataset: \", y_val_binary_1.shape)\n",
    "\n",
    "print(\"Before OverSampling, counts of label '1': {}\".format(sum(y_train_binary_1==1)))\n",
    "print(\"Before OverSampling, counts of label '0': {} \\n\".format(sum(y_train_binary_1==0)))\n",
    "\n",
    "sm = SMOTE(random_state=2)\n",
    "X_train_res, y_train_res = sm.fit_resample(X_train_robust, y_train_binary_1.values.ravel())\n",
    "\n",
    "print('After OverSampling, the shape of train_X: {}'.format(X_train_res.shape))\n",
    "print('After OverSampling, the shape of train_y: {} \\n'.format(y_train_res.shape))\n",
    "\n",
    "print(\"After OverSampling, counts of label '1': {}\".format(sum(y_train_res==1)))\n",
    "print(\"After OverSampling, counts of label '0': {}\".format(sum(y_train_res==0)))"
   ]
  },
  {
   "cell_type": "markdown",
   "id": "baa6ae83",
   "metadata": {},
   "source": [
    "# Algorithms"
   ]
  },
  {
   "cell_type": "code",
   "execution_count": null,
   "id": "857a0532",
   "metadata": {
    "scrolled": true
   },
   "outputs": [],
   "source": [
    "# Define the models\n",
    "models = [\n",
    "    ('dt', DecisionTreeClassifier(random_state=19)),\n",
    "    ('knn', KNeighborsClassifier()),\n",
    "    ('rf', RandomForestClassifier(random_state=19))\n",
    "]\n",
    "\n",
    "# Define the hyperparameters  \n",
    "hyperparameters = [\n",
    "    {\n",
    "        'dt__criterion': ['gini', 'entropy'],\n",
    "        'dt__splitter': ['best'],\n",
    "        'dt__max_depth': [5, 10, 15],\n",
    "        'dt__min_samples_split': [50, 100, 150, 200],\n",
    "        'dt__min_samples_leaf': [5, 25, 50, 100]\n",
    "    }, # Decision Tree\n",
    "    {\n",
    "        'knn__n_neighbors': [75, 150, 250, 300],\n",
    "        'knn__weights': ['uniform', 'distance'],\n",
    "        'knn__algorithm': ['auto'],\n",
    "    }, # K Nearest Neighbors\n",
    "    {\n",
    "        'rf__n_estimators': [10, 50, 75, 100],\n",
    "        'rf__criterion': ['gini', 'entropy'],\n",
    "        'rf__max_depth': [2, 5, 10],\n",
    "        'rf__min_samples_split': [2, 10, 50, 100],\n",
    "        'rf__min_samples_leaf': [1, 5, 10, 15]\n",
    "    } # Random Forest\n",
    "]\n",
    "\n",
    "# Initialize an empty list to store the results\n",
    "results = []\n",
    "\n",
    "# Loop over each model\n",
    "for model, params in zip(models, hyperparameters):\n",
    "    # Create a pipeline with SMOTE and the model\n",
    "    pipeline = ImbPipeline([('SMOTE', SMOTE(random_state=42)), model])\n",
    "    \n",
    "    # Initialize GridSearchCV\n",
    "    gs = GridSearchCV(pipeline, params, scoring='f1', verbose=10)\n",
    "    \n",
    "    # Fit GridSearchCV\n",
    "    gs.fit(X_train_robust, y_train_binary_1)\n",
    "    \n",
    "    # Append the best score and best parameters to the results list\n",
    "    results.append([gs.best_score_, gs.best_params_])\n",
    "\n",
    "# Convert the results list to a DataFrame and sort by the best score\n",
    "test_scores_df = pd.DataFrame(results, columns=['best_score', 'best_params'])\n",
    "test_scores_df = test_scores_df.sort_values('best_score', ascending=False)"
   ]
  },
  {
   "cell_type": "code",
   "execution_count": null,
   "id": "bb4706dc",
   "metadata": {
    "scrolled": true
   },
   "outputs": [],
   "source": [
    "test_scores_df"
   ]
  },
  {
   "cell_type": "code",
   "execution_count": 43,
   "id": "fe975c8f",
   "metadata": {},
   "outputs": [
    {
     "name": "stdout",
     "output_type": "stream",
     "text": [
      "{'rf__n_estimators': 100, 'rf__min_samples_split': 5, 'rf__min_samples_leaf': 5, 'rf__max_depth': 5, 'rf__criterion': 'entropy', 'rf__bootstrap': False}\n",
      "{'dt__splitter': 'best', 'dt__min_samples_split': 2, 'dt__min_samples_leaf': 2, 'dt__max_depth': 5, 'dt__criterion': 'entropy'}\n",
      "{'knn__weights': 'distance', 'knn__p': 2, 'knn__n_neighbors': 9, 'knn__algorithm': 'kd_tree'}\n"
     ]
    }
   ],
   "source": [
    "print(test_scores_df['best_params'][2])\n",
    "print(test_scores_df['best_params'][0])\n",
    "print(test_scores_df['best_params'][1])"
   ]
  },
  {
   "cell_type": "code",
   "execution_count": null,
   "id": "5d972c93",
   "metadata": {},
   "outputs": [],
   "source": [
    "test_scores_df.to_csv('test_scores_df_restart_3.csv', index = False, encoding='utf-8')"
   ]
  },
  {
   "cell_type": "markdown",
   "id": "a7808b61",
   "metadata": {},
   "source": [
    "### Gradient & SVM"
   ]
  },
  {
   "cell_type": "code",
   "execution_count": null,
   "id": "99c5337b",
   "metadata": {},
   "outputs": [
    {
     "name": "stdout",
     "output_type": "stream",
     "text": [
      "Fitting 5 folds for each of 6 candidates, totalling 30 fits\n",
      "[CV 1/5] END gbc__learning_rate=0.01, gbc__max_depth=None, gbc__min_samples_leaf=20, gbc__min_samples_split=2, gbc__n_estimators=100, gbc__subsample=0.5;, score=0.093 total time=  36.8s\n",
      "[CV 2/5] END gbc__learning_rate=0.01, gbc__max_depth=None, gbc__min_samples_leaf=20, gbc__min_samples_split=2, gbc__n_estimators=100, gbc__subsample=0.5;, score=0.098 total time=  36.7s\n",
      "[CV 3/5] END gbc__learning_rate=0.01, gbc__max_depth=None, gbc__min_samples_leaf=20, gbc__min_samples_split=2, gbc__n_estimators=100, gbc__subsample=0.5;, score=0.088 total time=  36.7s\n",
      "[CV 4/5] END gbc__learning_rate=0.01, gbc__max_depth=None, gbc__min_samples_leaf=20, gbc__min_samples_split=2, gbc__n_estimators=100, gbc__subsample=0.5;, score=0.103 total time=  37.3s\n",
      "[CV 5/5] END gbc__learning_rate=0.01, gbc__max_depth=None, gbc__min_samples_leaf=20, gbc__min_samples_split=2, gbc__n_estimators=100, gbc__subsample=0.5;, score=0.117 total time=  37.0s\n",
      "[CV 1/5] END gbc__learning_rate=0.01, gbc__max_depth=None, gbc__min_samples_leaf=20, gbc__min_samples_split=2, gbc__n_estimators=100, gbc__subsample=0.75;, score=0.086 total time=  57.5s\n",
      "[CV 2/5] END gbc__learning_rate=0.01, gbc__max_depth=None, gbc__min_samples_leaf=20, gbc__min_samples_split=2, gbc__n_estimators=100, gbc__subsample=0.75;, score=0.101 total time=  56.7s\n",
      "[CV 3/5] END gbc__learning_rate=0.01, gbc__max_depth=None, gbc__min_samples_leaf=20, gbc__min_samples_split=2, gbc__n_estimators=100, gbc__subsample=0.75;, score=0.084 total time=  56.4s\n"
     ]
    }
   ],
   "source": [
    "# Define the models\n",
    "models = [\n",
    "    ('gbc', GradientBoostingClassifier())\n",
    "]\n",
    "\n",
    "# Define the hyperparameters  \n",
    "hyperparameters = [\n",
    "    {\n",
    "        'gbc__n_estimators': [100],'gbc__max_depth': [None,1],'gbc__min_samples_split': [2],\n",
    "        'gbc__min_samples_leaf': [20],'gbc__learning_rate': [0.01],'gbc__subsample':[0.5,0.75,1.0]\n",
    "    }\n",
    "                  ]\n",
    "\n",
    "# Initialize an empty list to store the results\n",
    "results = []\n",
    "\n",
    "# Loop over each model\n",
    "for model, params in zip(models, hyperparameters):\n",
    "    # Create a pipeline with SMOTE and the model\n",
    "    pipeline = ImbPipeline([('SMOTE', SMOTE(random_state=42)), model])\n",
    "    \n",
    "    # Initialize GridSearchCV\n",
    "    gs = GridSearchCV(pipeline, params, scoring='f1', verbose=3)\n",
    "    \n",
    "    # Fit GridSearchCV\n",
    "    gs.fit(X_train_robust, y_train_binary_1)\n",
    "    \n",
    "    # Append the best score and best parameters to the results list\n",
    "    results.append([gs.best_score_, gs.best_params_])\n",
    "\n",
    "# Convert the results list to a DataFrame and sort by the best score\n",
    "test_scores_df = pd.DataFrame(results, columns=['best_score', 'best_params'])\n",
    "test_scores_df = test_scores_df.sort_values('best_score', ascending=False)"
   ]
  },
  {
   "cell_type": "code",
   "execution_count": null,
   "id": "a03dd435",
   "metadata": {},
   "outputs": [],
   "source": [
    "test_scores_df"
   ]
  },
  {
   "cell_type": "code",
   "execution_count": null,
   "id": "f375d47f",
   "metadata": {},
   "outputs": [],
   "source": [
    "test_scores_df.to_csv('test_scores_df_restart_gb_3.csv', index = False, encoding='utf-8')"
   ]
  },
  {
   "cell_type": "code",
   "execution_count": null,
   "id": "c447b918",
   "metadata": {},
   "outputs": [],
   "source": [
    "# Define the models\n",
    "models = [\n",
    "    ('svc', SVC())\n",
    "]\n",
    "\n",
    "# Define the hyperparameters  \n",
    "hyperparameters = [\n",
    "    {\n",
    "        'svc__C': [0.1, 1, 10],'svc__kernel': ['linear', 'rbf'],'svc__gamma': ['scale', 'auto']\n",
    "    }\n",
    "                  ]\n",
    "\n",
    "# Initialize an empty list to store the results\n",
    "results = []\n",
    "\n",
    "# Loop over each model\n",
    "for model, params in zip(models, hyperparameters):\n",
    "    # Create a pipeline with SMOTE and the model\n",
    "    pipeline = ImbPipeline([('SMOTE', SMOTE(random_state=42)), model])\n",
    "    \n",
    "    # Initialize GridSearchCV\n",
    "    gs = RandomizedSearchCV(pipeline, params, scoring='f1', verbose=3)\n",
    "    \n",
    "    # Fit GridSearchCV\n",
    "    gs.fit(X_train_robust, y_train_binary_1)\n",
    "    \n",
    "    # Append the best score and best parameters to the results list\n",
    "    results.append([gs.best_score_, gs.best_params_])\n",
    "\n",
    "# Convert the results list to a DataFrame and sort by the best score\n",
    "test_scores_df = pd.DataFrame(results, columns=['best_score', 'best_params'])\n",
    "test_scores_df = test_scores_df.sort_values('best_score', ascending=False)"
   ]
  },
  {
   "cell_type": "code",
   "execution_count": null,
   "id": "2df9dae9",
   "metadata": {},
   "outputs": [],
   "source": [
    "test_scores_df"
   ]
  },
  {
   "cell_type": "code",
   "execution_count": null,
   "id": "1082b9a5",
   "metadata": {},
   "outputs": [],
   "source": [
    "# test_scores_df.to_csv('test_scores_df_restart_svc_1.csv', index = False, encoding='utf-8')"
   ]
  }
 ],
 "metadata": {
  "kernelspec": {
   "display_name": "Python 3 (ipykernel)",
   "language": "python",
   "name": "python3"
  },
  "language_info": {
   "codemirror_mode": {
    "name": "ipython",
    "version": 3
   },
   "file_extension": ".py",
   "mimetype": "text/x-python",
   "name": "python",
   "nbconvert_exporter": "python",
   "pygments_lexer": "ipython3",
   "version": "3.10.12"
  }
 },
 "nbformat": 4,
 "nbformat_minor": 5
}
